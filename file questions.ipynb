{
 "cells": [
  {
   "cell_type": "code",
   "execution_count": 6,
   "metadata": {},
   "outputs": [
    {
     "name": "stdout",
     "output_type": "stream",
     "text": [
      "{1: 'apple', 2: 'cherry', 3: 'kiwi'}\n"
     ]
    }
   ],
   "source": [
    "# write a dictionary to a file in python\n",
    "\n",
    "d={1:\"apple\",2:\"cherry\",3:\"kiwi\"}\n",
    "f2=open(\"fruits.txt\",\"w\")\n",
    "for i in d:\n",
    "    f2.write(d.get(i)+\"\\n\")\n",
    "f2.close()\n",
    "print(d)\n",
    "\n",
    "# fruits.txt:\n",
    "# apple\n",
    "# cherry\n",
    "# kiwi"
   ]
  },
  {
   "cell_type": "code",
   "execution_count": 8,
   "metadata": {},
   "outputs": [],
   "source": [
    "# write a dictionary to a file in python\n",
    "\n",
    "d={\"1\":\"apple\",\"2\":\"cherry\",\"3\":\"kiwi\"}\n",
    "f2=open(\"fruits2.txt\",\"w\")\n",
    "for key,val in d.items():\n",
    "    f2.write(str(key)+\":\"+str(val)+\"\\n\")\n",
    "f2.close()\n",
    "\n",
    "# fruits.txt:\n",
    "# 1:apple\n",
    "# 2:cherry\n",
    "# 3:kiwi"
   ]
  },
  {
   "cell_type": "code",
   "execution_count": 9,
   "metadata": {},
   "outputs": [],
   "source": [
    "# wap to copy content of one to other file (convert the content to uppercase)\n",
    "\n",
    "f1=open(\"b2.txt\",\"r\")\n",
    "f2=open(\"users.txt\",\"w\")\n",
    "l1=f1.readlines()\n",
    "for i in l1:\n",
    "    f2.write(i.upper())\n",
    "f2.close()\n",
    "\n",
    "# b2.txt:\n",
    "\n",
    "# a\n",
    "# b\n",
    "# c\n",
    "\n",
    "# users.txt:\n",
    "\n",
    "# A\n",
    "# B\n",
    "# C"
   ]
  },
  {
   "cell_type": "code",
   "execution_count": 13,
   "metadata": {},
   "outputs": [],
   "source": [
    "# wap to reverse content of a file and store it in another file\n",
    "\n",
    "f1=open(\"demo.txt\",\"r\")\n",
    "f2=open(\"rev.txt\",\"w\")\n",
    "l1=f1.readlines()\n",
    "data=l1[::-1]\n",
    "for i in data:\n",
    "    f2.write(i[::-1])\n",
    "f2.close()\n",
    "f1.close()\n",
    "\n",
    "# demo.txt:\n",
    "\n",
    "# This is python1\n",
    "# This is python2\n",
    "# This is python3\n",
    "# This is python4\n",
    "\n",
    "# rev.txt:\n",
    "    \n",
    "\n",
    "# 4nohtyp si sihT\n",
    "# 3nohtyp si sihT\n",
    "# 2nohtyp si sihT\n",
    "# 1nohtyp si sihT"
   ]
  },
  {
   "cell_type": "code",
   "execution_count": 14,
   "metadata": {},
   "outputs": [],
   "source": [
    "# wap to print sentence of a file in reverse order and store it in another file\n",
    "\n",
    "f1=open(\"demo.txt\",\"r\")\n",
    "f2=open(\"revline.txt\",\"w\")\n",
    "l1=f1.readlines()\n",
    "data=l1[::-1]\n",
    "for i in data:\n",
    "    f2.write(i)\n",
    "f2.close()\n",
    "f1.close()\n",
    "\n",
    "# demo.txt:\n",
    "\n",
    "# This is python1\n",
    "# This is python2\n",
    "# This is python3\n",
    "# This is python4\n",
    "\n",
    "# rev.txt:\n",
    "    \n",
    "# This is python4\n",
    "# This is python3\n",
    "# This is python2\n",
    "# This is python1"
   ]
  },
  {
   "cell_type": "code",
   "execution_count": 11,
   "metadata": {},
   "outputs": [],
   "source": [
    "# wap to copy odd lines from one file to another file and same for even too\n",
    "\n",
    "f1=open(\"manylines.txt\",\"r\")\n",
    "f2=open(\"odd.txt\",\"w\")\n",
    "f3=open(\"even.txt\",\"w\")\n",
    "l1=f1.readlines()\n",
    "ctr=1\n",
    "for i in l1:\n",
    "    if ctr%2!=0:\n",
    "        f2.write(i)\n",
    "    else:\n",
    "        f3.write(i)\n",
    "    ctr+=1\n",
    "f3.close()\n",
    "f2.close()\n",
    "f1.close()"
   ]
  },
  {
   "cell_type": "code",
   "execution_count": 6,
   "metadata": {},
   "outputs": [
    {
     "name": "stdout",
     "output_type": "stream",
     "text": [
      "enter name of text file name: manylines\n",
      "line 1\n",
      "line 2\n",
      "line 3\n",
      "line 4\n",
      "line 5\n",
      "enter q to quit or enter anything else to continue: f\n",
      "line 6\n",
      "line 7\n",
      "line 8\n",
      "line 9\n",
      "line 10\n",
      "enter q to quit or enter anything else to continue: w\n",
      "line 11\n",
      "line 12enter q to quit or enter anything else to continue: w\n",
      "enter q to quit or enter anything else to continue: w\n",
      "enter q to quit or enter anything else to continue: w\n",
      "enter q to quit or enter anything else to continue: j\n",
      "enter q to quit or enter anything else to continue: q\n"
     ]
    }
   ],
   "source": [
    "# write a pager program, your solution should prompt for file name and display the text file\n",
    "# 5 lines at a time pausing each time to ask the user to press any key to continue and press\n",
    "# q to quit\n",
    "\n",
    "n=input(\"enter name of text file name: \")\n",
    "f1=open(n+\".txt\",\"r\")\n",
    "n1=\" \" # this space is neccesary\n",
    "while n1 not in \"qQ\":\n",
    "    for i in range(1,6):\n",
    "        print(f1.readline(),end=\"\")\n",
    "    n1=input(\"enter q to quit or enter anything else to continue: \")    "
   ]
  },
  {
   "cell_type": "code",
   "execution_count": 5,
   "metadata": {},
   "outputs": [
    {
     "name": "stdout",
     "output_type": "stream",
     "text": [
      "enter file name: manylines.txt\n",
      "line 1\n",
      "\n",
      "line 2\n",
      "\n",
      "line 3\n",
      "\n",
      "line 4\n",
      "\n",
      "line 5\n",
      "\n",
      "enter q to quit or something else to continue: k\n",
      "line 6\n",
      "\n",
      "line 7\n",
      "\n",
      "line 8\n",
      "\n",
      "line 9\n",
      "\n",
      "line 10\n",
      "\n",
      "enter q to quit or something else to continue: o\n",
      "line 11\n",
      "\n",
      "line 12\n"
     ]
    }
   ],
   "source": [
    "# alter (perfect output):\n",
    "\n",
    "t=open(input(\"enter file name: \"))\n",
    "lines=5\n",
    "for index,line in enumerate(t,1):\n",
    "    print(line)\n",
    "    if index%lines==0:\n",
    "        x=input(\"enter q to quit or something else to continue: \")\n",
    "        if x.lower()==\"q\":\n",
    "            break\n",
    "        else:\n",
    "            continue"
   ]
  },
  {
   "cell_type": "code",
   "execution_count": 12,
   "metadata": {},
   "outputs": [],
   "source": [
    "# wap to copy the contents of two files into a single file\n",
    "\n",
    "f1=open(\"combine.txt\",\"w\")\n",
    "f2=open(\"odd.txt\",\"r\")\n",
    "f3=open(\"even.txt\",\"r\")\n",
    "l=f2.readlines()+f3.readlines()\n",
    "for i in l:\n",
    "    f1.write(i)\n",
    "f3.close()\n",
    "f2.close()\n",
    "f1.close()"
   ]
  },
  {
   "cell_type": "code",
   "execution_count": 4,
   "metadata": {},
   "outputs": [
    {
     "name": "stdout",
     "output_type": "stream",
     "text": [
      "\n",
      "\n",
      "n=input(\"enter name of text file name: \")\n",
      "\n",
      "f1=open(n+\".txt\",\"r\")\n",
      "\n",
      "n1=\" \" \n",
      "    for i in range(1,6):\n",
      "\n",
      "        print(f1.readline(),end=\"\")\n",
      "\n",
      "    n1=input(\"enter q to quit or enter anything else to continue: \")\n"
     ]
    }
   ],
   "source": [
    "# wap to display all lines of a file except those with # sign or comment\n",
    "\n",
    "f1=open(\"code.txt\",\"r\")\n",
    "l1=f1.readlines()\n",
    "for i in l1:\n",
    "    if i[0]==\"#\":\n",
    "        continue\n",
    "    if \"#\" in i:\n",
    "        print(i[:i.index(\"#\")])\n",
    "    else:\n",
    "        print(i)\n",
    "f1.close()"
   ]
  },
  {
   "cell_type": "code",
   "execution_count": null,
   "metadata": {},
   "outputs": [],
   "source": []
  }
 ],
 "metadata": {
  "kernelspec": {
   "display_name": "Python 3",
   "language": "python",
   "name": "python3"
  },
  "language_info": {
   "codemirror_mode": {
    "name": "ipython",
    "version": 3
   },
   "file_extension": ".py",
   "mimetype": "text/x-python",
   "name": "python",
   "nbconvert_exporter": "python",
   "pygments_lexer": "ipython3",
   "version": "3.8.5"
  }
 },
 "nbformat": 4,
 "nbformat_minor": 4
}
