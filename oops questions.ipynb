{
 "cells": [
  {
   "cell_type": "markdown",
   "metadata": {},
   "source": [
    "## Encapsulation\n",
    "- process of binding data and corresponding method into a single entity is callled encapsulation.\n",
    "- programming techniques which binds the class methods( variable and methods) together and prevents them from being accessed by other classes\n",
    "- it hides the data from the access of outsiders by encapsulating it\n",
    "- way to ensure security\n",
    "\n",
    "### --> public:\n",
    "    --> name\n",
    "    --> freely used inside and outside class definition \n",
    "### --> protected:\n",
    "    --> _name\n",
    "    --> should not be used outside the class unless substring definition\n",
    "    \n",
    "### --> private:\n",
    "    --> __name\n",
    "    --> inaccessible\n",
    "    --> does not read or write\n",
    "    --> works inside the class definition only"
   ]
  },
  {
   "cell_type": "markdown",
   "metadata": {},
   "source": [
    "## Getters and Setters\n"
   ]
  },
  {
   "cell_type": "code",
   "execution_count": 2,
   "metadata": {},
   "outputs": [
    {
     "name": "stdout",
     "output_type": "stream",
     "text": [
      "the book is:  Atomic Habits\n",
      "the book is:  Good Girl bad blood\n"
     ]
    }
   ],
   "source": [
    "class library:\n",
    "    def __init__(self,id,name):\n",
    "        self.bookid=id\n",
    "        self.bookname=name\n",
    "    def getbookname(self): # getter\n",
    "        print(\"the book is: \",self.bookname)\n",
    "    def setbookname(self,newbookname): # setter\n",
    "        self.bookname=newbookname\n",
    "book=library(1,\"Atomic Habits\")\n",
    "book.getbookname()\n",
    "book.setbookname(\"Good Girl bad blood\")\n",
    "book.getbookname()"
   ]
  },
  {
   "cell_type": "markdown",
   "metadata": {},
   "source": [
    "## Abstraction\n",
    "\n",
    "- Abstraction is a way that just shows us the functionality that anything holds, hiding all the implementations or inner details\n",
    "- Main goal of abstraction is to hide background details or any unnecessary implementation about data so that users only see the required information \n",
    "- it helps in handling the complexity of the codes."
   ]
  },
  {
   "cell_type": "markdown",
   "metadata": {},
   "source": [
    "## Python Generators \n",
    "\n",
    "- used to create iterators\n",
    "- generator can also be the expression in which syntax is similar to list comprehension\n",
    "- next() method to keep the track of internal states\n",
    "- if no value found in the iterartion then it raises stopIteration exception "
   ]
  },
  {
   "cell_type": "code",
   "execution_count": 4,
   "metadata": {},
   "outputs": [
    {
     "name": "stdout",
     "output_type": "stream",
     "text": [
      "0\n"
     ]
    }
   ],
   "source": [
    "def simple():\n",
    "    for i in range(10):\n",
    "        if i%2==0:\n",
    "            return i\n",
    "x=simple()\n",
    "print(x)"
   ]
  },
  {
   "cell_type": "code",
   "execution_count": 6,
   "metadata": {},
   "outputs": [
    {
     "name": "stdout",
     "output_type": "stream",
     "text": [
      "<generator object simple at 0x000001E045622190>\n",
      "[0, 2, 4, 6, 8]\n"
     ]
    }
   ],
   "source": [
    "def simple():\n",
    "    for i in range(10):\n",
    "        if i%2==0:\n",
    "            yield i\n",
    "x=simple()\n",
    "print(x)\n",
    "print(list(x))"
   ]
  },
  {
   "cell_type": "markdown",
   "metadata": {},
   "source": [
    "#### note: yield--> multiple return"
   ]
  },
  {
   "cell_type": "code",
   "execution_count": 7,
   "metadata": {},
   "outputs": [
    {
     "name": "stdout",
     "output_type": "stream",
     "text": [
      "10\n",
      "20\n",
      "30\n",
      "40\n"
     ]
    }
   ],
   "source": [
    "def fan():\n",
    "    yield 10\n",
    "    yield 20\n",
    "    yield 30\n",
    "    yield 40\n",
    "for i in fan():\n",
    "    print(i)"
   ]
  },
  {
   "cell_type": "code",
   "execution_count": 8,
   "metadata": {},
   "outputs": [
    {
     "ename": "TypeError",
     "evalue": "'int' object is not iterable",
     "output_type": "error",
     "traceback": [
      "\u001b[1;31m---------------------------------------------------------------------------\u001b[0m",
      "\u001b[1;31mTypeError\u001b[0m                                 Traceback (most recent call last)",
      "\u001b[1;32m<ipython-input-8-a564978688e1>\u001b[0m in \u001b[0;36m<module>\u001b[1;34m\u001b[0m\n\u001b[0;32m      4\u001b[0m     \u001b[1;32mreturn\u001b[0m\u001b[1;33m(\u001b[0m\u001b[1;36m30\u001b[0m\u001b[1;33m)\u001b[0m\u001b[1;33m\u001b[0m\u001b[1;33m\u001b[0m\u001b[0m\n\u001b[0;32m      5\u001b[0m     \u001b[1;32mreturn\u001b[0m\u001b[1;33m(\u001b[0m\u001b[1;36m40\u001b[0m\u001b[1;33m)\u001b[0m\u001b[1;33m\u001b[0m\u001b[1;33m\u001b[0m\u001b[0m\n\u001b[1;32m----> 6\u001b[1;33m \u001b[1;32mfor\u001b[0m \u001b[0mi\u001b[0m \u001b[1;32min\u001b[0m \u001b[0mfan\u001b[0m\u001b[1;33m(\u001b[0m\u001b[1;33m)\u001b[0m\u001b[1;33m:\u001b[0m\u001b[1;33m\u001b[0m\u001b[1;33m\u001b[0m\u001b[0m\n\u001b[0m\u001b[0;32m      7\u001b[0m     \u001b[0mprint\u001b[0m\u001b[1;33m(\u001b[0m\u001b[0mi\u001b[0m\u001b[1;33m)\u001b[0m\u001b[1;33m\u001b[0m\u001b[1;33m\u001b[0m\u001b[0m\n",
      "\u001b[1;31mTypeError\u001b[0m: 'int' object is not iterable"
     ]
    }
   ],
   "source": [
    "def fan():\n",
    "    return(10)\n",
    "    return(20)\n",
    "    return(30)\n",
    "    return(40)\n",
    "for i in fan():\n",
    "    print(i)"
   ]
  },
  {
   "cell_type": "code",
   "execution_count": 11,
   "metadata": {},
   "outputs": [
    {
     "name": "stdout",
     "output_type": "stream",
     "text": [
      "3\n",
      "2\n",
      "3\n",
      "0\n"
     ]
    }
   ],
   "source": [
    "def fan():\n",
    "    return('3230')\n",
    "    return('20')\n",
    "    return('30')\n",
    "    return('40')\n",
    "for i in fan():\n",
    "    print(i)"
   ]
  },
  {
   "cell_type": "code",
   "execution_count": 13,
   "metadata": {},
   "outputs": [
    {
     "name": "stdout",
     "output_type": "stream",
     "text": [
      "[10, 20, 30, 40]\n"
     ]
    }
   ],
   "source": [
    "def fan():\n",
    "    yield [10,20,30,40]\n",
    "for i in fan():\n",
    "    print(i)"
   ]
  },
  {
   "cell_type": "code",
   "execution_count": 14,
   "metadata": {},
   "outputs": [
    {
     "name": "stdout",
     "output_type": "stream",
     "text": [
      "(10, 20, 30, 40)\n"
     ]
    }
   ],
   "source": [
    "def fan():\n",
    "    yield 10,20,30,40\n",
    "for i in fan():\n",
    "    print(i)"
   ]
  },
  {
   "cell_type": "code",
   "execution_count": 15,
   "metadata": {},
   "outputs": [
    {
     "name": "stdout",
     "output_type": "stream",
     "text": [
      "{40, 10, 20, 30}\n"
     ]
    }
   ],
   "source": [
    "def fan():\n",
    "    yield {10,20,30,40}\n",
    "for i in fan():\n",
    "    print(i)"
   ]
  },
  {
   "cell_type": "code",
   "execution_count": 16,
   "metadata": {},
   "outputs": [],
   "source": [
    "# value written with yield is getting stored in list by default "
   ]
  },
  {
   "cell_type": "code",
   "execution_count": 18,
   "metadata": {},
   "outputs": [
    {
     "name": "stdout",
     "output_type": "stream",
     "text": [
      "delhi\n",
      "mumbai\n",
      "chennai\n",
      "kolkata\n",
      "banglore\n",
      "hyderabad\n"
     ]
    },
    {
     "ename": "StopIteration",
     "evalue": "",
     "output_type": "error",
     "traceback": [
      "\u001b[1;31m---------------------------------------------------------------------------\u001b[0m",
      "\u001b[1;31mStopIteration\u001b[0m                             Traceback (most recent call last)",
      "\u001b[1;32m<ipython-input-18-597256b2b03a>\u001b[0m in \u001b[0;36m<module>\u001b[1;34m\u001b[0m\n\u001b[0;32m     13\u001b[0m \u001b[0mprint\u001b[0m\u001b[1;33m(\u001b[0m\u001b[0mnext\u001b[0m\u001b[1;33m(\u001b[0m\u001b[0mcity\u001b[0m\u001b[1;33m)\u001b[0m\u001b[1;33m)\u001b[0m\u001b[1;33m\u001b[0m\u001b[1;33m\u001b[0m\u001b[0m\n\u001b[0;32m     14\u001b[0m \u001b[0mprint\u001b[0m\u001b[1;33m(\u001b[0m\u001b[0mnext\u001b[0m\u001b[1;33m(\u001b[0m\u001b[0mcity\u001b[0m\u001b[1;33m)\u001b[0m\u001b[1;33m)\u001b[0m\u001b[1;33m\u001b[0m\u001b[1;33m\u001b[0m\u001b[0m\n\u001b[1;32m---> 15\u001b[1;33m \u001b[0mprint\u001b[0m\u001b[1;33m(\u001b[0m\u001b[0mnext\u001b[0m\u001b[1;33m(\u001b[0m\u001b[0mcity\u001b[0m\u001b[1;33m)\u001b[0m\u001b[1;33m)\u001b[0m\u001b[1;33m\u001b[0m\u001b[1;33m\u001b[0m\u001b[0m\n\u001b[0m\u001b[0;32m     16\u001b[0m \u001b[0mprint\u001b[0m\u001b[1;33m(\u001b[0m\u001b[0mnext\u001b[0m\u001b[1;33m(\u001b[0m\u001b[0mcity\u001b[0m\u001b[1;33m)\u001b[0m\u001b[1;33m)\u001b[0m\u001b[1;33m\u001b[0m\u001b[1;33m\u001b[0m\u001b[0m\n",
      "\u001b[1;31mStopIteration\u001b[0m: "
     ]
    }
   ],
   "source": [
    "def city_generator():\n",
    "    yield 'delhi'\n",
    "    yield 'mumbai'\n",
    "    yield 'chennai'\n",
    "    yield 'kolkata'\n",
    "    yield 'banglore'\n",
    "    yield 'hyderabad'\n",
    "city=city_generator()\n",
    "print(next(city))\n",
    "print(next(city))\n",
    "print(next(city))\n",
    "print(next(city))\n",
    "print(next(city))\n",
    "print(next(city))\n",
    "print(next(city))\n",
    "print(next(city))"
   ]
  },
  {
   "cell_type": "code",
   "execution_count": 20,
   "metadata": {},
   "outputs": [
    {
     "name": "stdout",
     "output_type": "stream",
     "text": [
      "delhi\n",
      "mumbai\n",
      "chennai\n",
      "kolkata\n",
      "banglore\n",
      "hyderabad\n"
     ]
    }
   ],
   "source": [
    "def city_generator():\n",
    "    yield 'delhi'\n",
    "    yield 'mumbai'\n",
    "    yield 'chennai'\n",
    "    yield 'kolkata'\n",
    "    yield 'banglore'\n",
    "    yield 'hyderabad'\n",
    "city=city_generator()\n",
    "print(next(city))\n",
    "print(next(city))\n",
    "print(next(city))\n",
    "print(next(city))\n",
    "print(next(city))\n",
    "print(next(city))\n",
    "\n",
    "for i in city:\n",
    "    print(\"loop: \",i)"
   ]
  },
  {
   "cell_type": "code",
   "execution_count": 21,
   "metadata": {},
   "outputs": [
    {
     "name": "stdout",
     "output_type": "stream",
     "text": [
      "loop:  delhi\n",
      "loop:  mumbai\n",
      "loop:  chennai\n",
      "loop:  kolkata\n",
      "loop:  banglore\n",
      "loop:  hyderabad\n"
     ]
    }
   ],
   "source": [
    "def city_generator():\n",
    "    yield 'delhi'\n",
    "    yield 'mumbai'\n",
    "    yield 'chennai'\n",
    "    yield 'kolkata'\n",
    "    yield 'banglore'\n",
    "    yield 'hyderabad'\n",
    "city=city_generator()\n",
    "\n",
    "for i in city:\n",
    "    print(\"loop: \",i)"
   ]
  },
  {
   "cell_type": "code",
   "execution_count": 23,
   "metadata": {},
   "outputs": [
    {
     "name": "stdout",
     "output_type": "stream",
     "text": [
      "delhi\n",
      "mumbai\n",
      "chennai\n",
      "kolkata\n",
      "banglore\n",
      "hyderabad\n"
     ]
    }
   ],
   "source": [
    "def city_generator():\n",
    "    yield 'delhi'\n",
    "    yield 'mumbai'\n",
    "    yield 'chennai'\n",
    "    yield 'kolkata'\n",
    "    yield 'banglore'\n",
    "    yield 'hyderabad'\n",
    "city=city_generator()\n",
    "print(next(city))\n",
    "print(next(city))\n",
    "print(next(city))\n",
    "print(next(city))\n",
    "print(next(city))\n",
    "print(next(city))"
   ]
  },
  {
   "cell_type": "code",
   "execution_count": 4,
   "metadata": {},
   "outputs": [
    {
     "name": "stdout",
     "output_type": "stream",
     "text": [
      "enter branch: hdr\n",
      "enter name:  we\n",
      "enter rollno: 23\n",
      "do you want to enter marks? yes\n",
      "we\n",
      "23\n",
      "hdr\n",
      "0\n",
      "0\n",
      "0\n",
      "0\n",
      "0\n"
     ]
    }
   ],
   "source": [
    "\"\"\"  \n",
    "wap to create a class student, there will be 3 variables: name, rollno and branch...consider branch as a class variable\n",
    "make 3 methods given as below: \n",
    "1. enter_marks() of 5 subjects\n",
    "2. display() --> display the details of student and marks if available\n",
    "3. calculating average of all marks\n",
    "\"\"\"\n",
    "\n",
    "class student:\n",
    "    branch=input(\"enter branch: \") # class variable\n",
    "    m1=m2=m3=m4=m5=0\n",
    "    def __init__(self):\n",
    "        self.name=input(\"enter name:  \") # instance variable\n",
    "        self.rollno=input(\"enter rollno: \")\n",
    "    \n",
    "    @classmethod\n",
    "    def enter_marks(cl):\n",
    "        print(\"enter marks: \")\n",
    "        cl.m1=int(input(\"de: \"))\n",
    "        cl.m2=int(input(\"fsd: \"))\n",
    "        cl.m3=int(input(\"python: \"))\n",
    "        cl.m4=int(input(\"ps: \"))\n",
    "        cl.m5=int(input(\"java: \"))\n",
    "    \n",
    "    def display(self,c1): # instance method\n",
    "        print(self.name)\n",
    "        print(self.rollno)\n",
    "        print(self.branch)\n",
    "        \n",
    "        if c1=='yes':\n",
    "            print(self.m1)\n",
    "            print(self.m2)\n",
    "            print(self.m3)\n",
    "            print(self.m4)\n",
    "            print(self.m5)\n",
    "        \n",
    "        \n",
    "s1=student()\n",
    "c1=input(\"do you want to enter marks? \")\n",
    "if c1.lower=='yes':\n",
    "    mrk1=student.enter_marks(s1)\n",
    "student.display(s1,c1)\n",
    "\n",
    "# s2=student()\n",
    "# student.display(s2)\n",
    "\n",
    "# s3=student()\n",
    "# student.display(s3)"
   ]
  },
  {
   "cell_type": "code",
   "execution_count": 6,
   "metadata": {},
   "outputs": [
    {
     "name": "stdout",
     "output_type": "stream",
     "text": [
      "enter branch: CSE\n",
      "enter marks: \n",
      "Enter Marks of subject 1:12\n",
      "Enter Marks of subject 2:25\n",
      "Enter Marks of subject 3:24\n",
      "Enter Marks of subject 4:23\n",
      "Enter Marks of subject 5:25\n",
      "abc\n",
      "1\n",
      "CSE\n",
      "Average Marks: 21.8\n",
      "enter marks: \n",
      "Enter Marks of subject 1:25\n",
      "Enter Marks of subject 2:21\n",
      "Enter Marks of subject 3:21\n",
      "Enter Marks of subject 4:23\n",
      "Enter Marks of subject 5:22\n",
      "xyz\n",
      "2\n",
      "CSE\n",
      "Average Marks: 22.4\n",
      "enter marks: \n",
      "Enter Marks of subject 1:12\n",
      "Enter Marks of subject 2:14\n",
      "Enter Marks of subject 3:15\n",
      "Enter Marks of subject 4:16\n",
      "Enter Marks of subject 5:11\n",
      "pqr\n",
      "3\n",
      "CSE\n",
      "Average Marks: 13.6\n"
     ]
    }
   ],
   "source": [
    "# correct solution:\n",
    "\n",
    "\"\"\"  \n",
    "wap to create a class student, there will be 3 variables: name, rollno and branch...consider branch as a class variable\n",
    "make 3 methods given as below: \n",
    "1. enter_marks() of 5 subjects\n",
    "2. display() --> display the details of student and marks if available\n",
    "3. calculating average of all marks\n",
    "\"\"\"\n",
    "\n",
    "class student:\n",
    "    branch=input(\"enter branch: \") # class variable\n",
    "    \n",
    "    def __init__(self,rollno,name):\n",
    "        self.name=name\n",
    "        self.rollno=rollno\n",
    "        \n",
    "        self.enter_marks()\n",
    "        self.display()\n",
    "        self.calculate_avg()\n",
    "\n",
    "    def enter_marks(self):\n",
    "        print(\"enter marks: \")\n",
    "        self.marks=[]\n",
    "        for i in range(5):\n",
    "            self.marks.append(int(input(f\"Enter Marks of subject {i+1}:\")))\n",
    "    \n",
    "    def display(self): \n",
    "        print(self.name)\n",
    "        print(self.rollno)\n",
    "        print(self.branch)\n",
    "        \n",
    "    def calculate_avg(self):\n",
    "        sum=0\n",
    "        for i in self.marks:\n",
    "            sum+=i\n",
    "        print(\"Average Marks:\",sum/len(self.marks))\n",
    "        \n",
    "        \n",
    "s1=student(1,\"abc\")\n",
    "s2=student(2,\"xyz\")\n",
    "s3=student(3,\"pqr\")"
   ]
  },
  {
   "cell_type": "code",
   "execution_count": 10,
   "metadata": {},
   "outputs": [
    {
     "name": "stdout",
     "output_type": "stream",
     "text": [
      "enter string: Hello how are yoU 1223\n",
      "upper:  2\n",
      "lower:  12\n",
      "vowels:  7\n",
      "consonants:  15\n",
      "digits:  4\n",
      "spaces:  4\n"
     ]
    }
   ],
   "source": [
    "# wap to create class string and make methods to count uppercase, lowercase, vowels, consonents, digits and spaces in\n",
    "# the string entered by user\n",
    "\n",
    "class string:\n",
    "    \n",
    "    def __init__(self,s1):\n",
    "        self.s1=s1\n",
    "        self.ctr_up()\n",
    "        self.ctr_low()\n",
    "        self.ctr_vow()\n",
    "        self.ctr_cons()\n",
    "        self.ctr_digit()\n",
    "        self.ctr_spaces()\n",
    "        \n",
    "    def ctr_up(self):\n",
    "        c1=0\n",
    "        for i in self.s1:\n",
    "            if i.isupper():\n",
    "                c1+=1\n",
    "        print(\"upper: \",c1)\n",
    "        \n",
    "    def ctr_low(self):\n",
    "        c1=0\n",
    "        for i in self.s1:\n",
    "            if i.islower():\n",
    "                c1+=1\n",
    "        print(\"lower: \",c1)\n",
    "        \n",
    "    def ctr_vow(self):\n",
    "        c1=0\n",
    "        for i in self.s1:\n",
    "            if i in (\"aeiouAEIOU\"):\n",
    "                c1+=1\n",
    "        print(\"vowels: \",c1)\n",
    "        \n",
    "    def ctr_cons(self):\n",
    "        c1=0\n",
    "        for i in self.s1:\n",
    "            if i not in (\"aeiouAEIOU\"):\n",
    "                c1+=1\n",
    "        print(\"consonants: \",c1)\n",
    "        \n",
    "    def ctr_digit(self):\n",
    "        c1=0\n",
    "        for i in self.s1:\n",
    "            if i.isdigit():\n",
    "                c1+=1\n",
    "        print(\"digits: \",c1)\n",
    "        \n",
    "    def ctr_spaces(self):\n",
    "        c1=0\n",
    "        for i in self.s1:\n",
    "            if i==\" \":\n",
    "                c1+=1\n",
    "        print(\"spaces: \",c1)\n",
    "        \n",
    "s1=input(\"enter string: \")\n",
    "s=string(s1)"
   ]
  },
  {
   "cell_type": "code",
   "execution_count": null,
   "metadata": {},
   "outputs": [],
   "source": []
  }
 ],
 "metadata": {
  "kernelspec": {
   "display_name": "Python 3",
   "language": "python",
   "name": "python3"
  },
  "language_info": {
   "codemirror_mode": {
    "name": "ipython",
    "version": 3
   },
   "file_extension": ".py",
   "mimetype": "text/x-python",
   "name": "python",
   "nbconvert_exporter": "python",
   "pygments_lexer": "ipython3",
   "version": "3.8.5"
  }
 },
 "nbformat": 4,
 "nbformat_minor": 4
}
