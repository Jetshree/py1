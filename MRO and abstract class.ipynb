{
 "cells": [
  {
   "cell_type": "markdown",
   "metadata": {},
   "source": [
    "### issubclass()\n",
    "    to check whether 1st class is child of 2nd class\n",
    "### isinstance()\n",
    "    to check whether the object is instance of given class or not"
   ]
  },
  {
   "cell_type": "code",
   "execution_count": 5,
   "metadata": {},
   "outputs": [
    {
     "name": "stdout",
     "output_type": "stream",
     "text": [
      "True\n",
      "False\n"
     ]
    }
   ],
   "source": [
    "class parent:\n",
    "    def func1():\n",
    "        print(\"hello parent\")\n",
    "class child(parent):\n",
    "    def func2():\n",
    "        print(\"hello child\")\n",
    "print(issubclass(child,parent))\n",
    "print(issubclass(parent,child))"
   ]
  },
  {
   "cell_type": "code",
   "execution_count": 6,
   "metadata": {},
   "outputs": [
    {
     "name": "stdout",
     "output_type": "stream",
     "text": [
      "True\n",
      "True\n",
      "False\n",
      "True\n"
     ]
    }
   ],
   "source": [
    "A=child()\n",
    "B=parent()\n",
    "print(isinstance(A,child))\n",
    "print(isinstance(A,parent))\n",
    "print(isinstance(B,child))\n",
    "print(isinstance(B,parent))"
   ]
  },
  {
   "cell_type": "markdown",
   "metadata": {},
   "source": [
    "## MRO (Method resolution order) "
   ]
  },
  {
   "cell_type": "code",
   "execution_count": 12,
   "metadata": {},
   "outputs": [
    {
     "name": "stdout",
     "output_type": "stream",
     "text": [
      "in class B\n",
      "[<class '__main__.D'>, <class '__main__.B'>, <class '__main__.C'>, <class '__main__.A'>, <class 'object'>]\n",
      "[<class '__main__.B'>, <class '__main__.A'>, <class 'object'>]\n",
      "[<class '__main__.A'>, <class 'object'>]\n",
      "[<class '__main__.C'>, <class '__main__.A'>, <class 'object'>]\n"
     ]
    }
   ],
   "source": [
    "class A:\n",
    "    def rk(self):\n",
    "        print(\"in class A\")\n",
    "class B(A):\n",
    "    def rk(self):\n",
    "        print(\"in class B\")\n",
    "class C(A):\n",
    "    def rk(self):\n",
    "        print(\"in class C\")\n",
    "class D(B,C):\n",
    "    pass\n",
    "r=D()\n",
    "r.rk()\n",
    "print(D.mro())\n",
    "print(B.mro())\n",
    "print(A.mro())\n",
    "print(C.mro())"
   ]
  },
  {
   "cell_type": "code",
   "execution_count": 14,
   "metadata": {},
   "outputs": [
    {
     "name": "stdout",
     "output_type": "stream",
     "text": [
      "foo from P1\n",
      "bar from C2\n"
     ]
    },
    {
     "data": {
      "text/plain": [
       "[__main__.GC, __main__.C1, __main__.C2, __main__.P1, __main__.P2, object]"
      ]
     },
     "execution_count": 14,
     "metadata": {},
     "output_type": "execute_result"
    }
   ],
   "source": [
    "class P1:\n",
    "    def foo(self):\n",
    "        print(\"foo from P1\")\n",
    "class P2:\n",
    "    def foo(self):\n",
    "        print(\"foo from P2\")\n",
    "    def bar(self):\n",
    "        print(\"bar from P2\")\n",
    "class C1(P1,P2):\n",
    "    pass\n",
    "class C2(P1):\n",
    "    def bar(self):\n",
    "        print(\"bar from C2\")\n",
    "class GC(C1,C2):\n",
    "    pass\n",
    "g=GC()\n",
    "g.foo()\n",
    "g.bar()\n",
    "GC.mro()"
   ]
  },
  {
   "cell_type": "code",
   "execution_count": 15,
   "metadata": {},
   "outputs": [
    {
     "ename": "TypeError",
     "evalue": "Cannot create a consistent method resolution\norder (MRO) for bases P1, P2",
     "output_type": "error",
     "traceback": [
      "\u001b[1;31m---------------------------------------------------------------------------\u001b[0m",
      "\u001b[1;31mTypeError\u001b[0m                                 Traceback (most recent call last)",
      "\u001b[1;32m<ipython-input-15-32da7edbd1fd>\u001b[0m in \u001b[0;36m<module>\u001b[1;34m\u001b[0m\n\u001b[0;32m     12\u001b[0m     \u001b[1;32mdef\u001b[0m \u001b[0mbar\u001b[0m\u001b[1;33m(\u001b[0m\u001b[0mself\u001b[0m\u001b[1;33m)\u001b[0m\u001b[1;33m:\u001b[0m\u001b[1;33m\u001b[0m\u001b[1;33m\u001b[0m\u001b[0m\n\u001b[0;32m     13\u001b[0m         \u001b[0mprint\u001b[0m\u001b[1;33m(\u001b[0m\u001b[1;34m\"bar from C2\"\u001b[0m\u001b[1;33m)\u001b[0m\u001b[1;33m\u001b[0m\u001b[1;33m\u001b[0m\u001b[0m\n\u001b[1;32m---> 14\u001b[1;33m \u001b[1;32mclass\u001b[0m \u001b[0mGC\u001b[0m\u001b[1;33m(\u001b[0m\u001b[0mC1\u001b[0m\u001b[1;33m,\u001b[0m\u001b[0mC2\u001b[0m\u001b[1;33m)\u001b[0m\u001b[1;33m:\u001b[0m\u001b[1;33m\u001b[0m\u001b[1;33m\u001b[0m\u001b[0m\n\u001b[0m\u001b[0;32m     15\u001b[0m     \u001b[1;32mpass\u001b[0m\u001b[1;33m\u001b[0m\u001b[1;33m\u001b[0m\u001b[0m\n\u001b[0;32m     16\u001b[0m \u001b[0mg\u001b[0m\u001b[1;33m=\u001b[0m\u001b[0mGC\u001b[0m\u001b[1;33m(\u001b[0m\u001b[1;33m)\u001b[0m\u001b[1;33m\u001b[0m\u001b[1;33m\u001b[0m\u001b[0m\n",
      "\u001b[1;31mTypeError\u001b[0m: Cannot create a consistent method resolution\norder (MRO) for bases P1, P2"
     ]
    }
   ],
   "source": [
    "class P1:\n",
    "    def foo(self):\n",
    "        print(\"foo from P1\")\n",
    "class P2:\n",
    "    def foo(self):\n",
    "        print(\"foo from P2\")\n",
    "    def bar(self):\n",
    "        print(\"bar from P2\")\n",
    "class C1(P1,P2):\n",
    "    pass\n",
    "class C2(P2,P1):\n",
    "    def bar(self):\n",
    "        print(\"bar from C2\")\n",
    "class GC(C1,C2):\n",
    "    pass\n",
    "g=GC()\n",
    "g.foo()\n",
    "g.bar()\n",
    "GC.mro()"
   ]
  },
  {
   "cell_type": "code",
   "execution_count": 18,
   "metadata": {},
   "outputs": [
    {
     "name": "stdout",
     "output_type": "stream",
     "text": [
      "[<class '__main__.Z'>, <class '__main__.K1'>, <class '__main__.K3'>, <class '__main__.K2'>, <class '__main__.C'>, <class '__main__.A'>, <class '__main__.B'>, <class '__main__.D'>, <class '__main__.E'>, <class 'object'>]\n"
     ]
    }
   ],
   "source": [
    "class A: pass\n",
    "class B: pass\n",
    "class C: pass\n",
    "class D: pass\n",
    "class E: pass\n",
    "class K1(C,A,B): pass\n",
    "class K3(A,D): pass\n",
    "class K2(B,D,E): pass\n",
    "class Z(K1,K3,K2,C): pass\n",
    "print(Z.mro())"
   ]
  },
  {
   "cell_type": "code",
   "execution_count": 19,
   "metadata": {},
   "outputs": [
    {
     "name": "stdout",
     "output_type": "stream",
     "text": [
      "[<class '__main__.Z'>, <class '__main__.K1'>, <class '__main__.C'>, <class '__main__.K3'>, <class '__main__.A'>, <class '__main__.K2'>, <class '__main__.B'>, <class '__main__.D'>, <class '__main__.E'>, <class 'object'>]\n"
     ]
    }
   ],
   "source": [
    "class A: pass\n",
    "class B: pass\n",
    "class C: pass\n",
    "class D: pass\n",
    "class E: pass\n",
    "class K1(C,A,B): pass\n",
    "class K3(A,D): pass\n",
    "class K2(B,D,E): pass\n",
    "class Z(K1,K3,K2): pass\n",
    "print(Z.mro())"
   ]
  },
  {
   "cell_type": "markdown",
   "metadata": {},
   "source": [
    "## Abstract class\n",
    "\n",
    "- abc: abstract base class\n",
    "- ABC: abstractmethod"
   ]
  },
  {
   "cell_type": "code",
   "execution_count": 22,
   "metadata": {},
   "outputs": [
    {
     "name": "stdout",
     "output_type": "stream",
     "text": [
      "drawing a circle\n"
     ]
    }
   ],
   "source": [
    "from abc import ABC,abstractmethod\n",
    "\n",
    "class shape(ABC):\n",
    "    def __init__(self,shape_name):\n",
    "        self.shape_name=shape_name\n",
    "    @abstractmethod\n",
    "    def draw(self):\n",
    "        pass\n",
    "class circle(shape):\n",
    "    def __init__(self):\n",
    "        super().__init__(\"circle\")\n",
    "    def draw(self):\n",
    "        print(\"drawing a circle\")\n",
    "c=circle()\n",
    "c.draw()"
   ]
  },
  {
   "cell_type": "code",
   "execution_count": 24,
   "metadata": {},
   "outputs": [
    {
     "ename": "TypeError",
     "evalue": "Can't instantiate abstract class circle with abstract methods draw",
     "output_type": "error",
     "traceback": [
      "\u001b[1;31m---------------------------------------------------------------------------\u001b[0m",
      "\u001b[1;31mTypeError\u001b[0m                                 Traceback (most recent call last)",
      "\u001b[1;32m<ipython-input-24-c84a3a2dbc99>\u001b[0m in \u001b[0;36m<module>\u001b[1;34m\u001b[0m\n\u001b[0;32m     12\u001b[0m     \u001b[1;32mdef\u001b[0m \u001b[0mdrawing\u001b[0m\u001b[1;33m(\u001b[0m\u001b[0mself\u001b[0m\u001b[1;33m)\u001b[0m\u001b[1;33m:\u001b[0m\u001b[1;33m\u001b[0m\u001b[1;33m\u001b[0m\u001b[0m\n\u001b[0;32m     13\u001b[0m         \u001b[0mprint\u001b[0m\u001b[1;33m(\u001b[0m\u001b[1;34m\"drawing a circle\"\u001b[0m\u001b[1;33m)\u001b[0m\u001b[1;33m\u001b[0m\u001b[1;33m\u001b[0m\u001b[0m\n\u001b[1;32m---> 14\u001b[1;33m \u001b[0mc\u001b[0m\u001b[1;33m=\u001b[0m\u001b[0mcircle\u001b[0m\u001b[1;33m(\u001b[0m\u001b[1;33m)\u001b[0m\u001b[1;33m\u001b[0m\u001b[1;33m\u001b[0m\u001b[0m\n\u001b[0m\u001b[0;32m     15\u001b[0m \u001b[0mc\u001b[0m\u001b[1;33m.\u001b[0m\u001b[0mdrawing\u001b[0m\u001b[1;33m(\u001b[0m\u001b[1;33m)\u001b[0m\u001b[1;33m\u001b[0m\u001b[1;33m\u001b[0m\u001b[0m\n",
      "\u001b[1;31mTypeError\u001b[0m: Can't instantiate abstract class circle with abstract methods draw"
     ]
    }
   ],
   "source": [
    "from abc import ABC,abstractmethod\n",
    "\n",
    "class shape(ABC):\n",
    "    def __init__(self,shape_name):\n",
    "        self.shape_name=shape_name\n",
    "    @abstractmethod\n",
    "    def draw(self):\n",
    "        pass\n",
    "class circle(shape):\n",
    "    def __init__(self):\n",
    "        super().__init__(\"circle\")\n",
    "    def drawing(self):\n",
    "        print(\"drawing a circle\")\n",
    "c=circle()\n",
    "c.drawing()"
   ]
  },
  {
   "cell_type": "code",
   "execution_count": 27,
   "metadata": {},
   "outputs": [],
   "source": [
    "class staff:\n",
    "    def __init__(self,name,salary):\n",
    "        self.name=name\n",
    "        self.salary=salary\n",
    "    def display(self):\n",
    "        print(self.name)\n",
    "        print(self.salary)\n",
    "        \n",
    "class teaching(staff):\n",
    "    def __init__(self,name,salary,subject):\n",
    "        super().__init__(name,salary)\n",
    "        self.subject=subject\n",
    "        \n",
    "    def display(self,subject):\n",
    "        super().display\n",
    "        print(self.subject)\n",
    "        \n",
    "class non_teaching(staff):\n",
    "    def __init__(self,name,salary,dept):\n",
    "        super().__init__(name,salary)\n",
    "        self.dept=dept\n",
    "        \n",
    "    def display(self,dept):\n",
    "        super().display\n",
    "        print(self.dept)\n",
    "   \n"
   ]
  },
  {
   "cell_type": "code",
   "execution_count": 30,
   "metadata": {},
   "outputs": [
    {
     "name": "stdout",
     "output_type": "stream",
     "text": [
      "s1\n",
      "s@mail\n",
      "g1\n",
      "g@mail\n",
      "['s1', 's2']\n"
     ]
    }
   ],
   "source": [
    "# create a class called student having name and email as its datamember and put data as bound methods the init function \n",
    "# should assign the value passed as parameter to the variables and the put data function should display the data of student\n",
    "# create another class called phd guide having name email and students as its datamembers , here the students variable is \n",
    "# the list of student under guide,the phd guide should have 4 bound methods,\n",
    "# put- show data of guide including the list of student\n",
    "# add- add a student to the listof students of guide \n",
    "# remove- remove student from the list\n",
    "\n",
    "class student:\n",
    "    def __init__(self,name,email):\n",
    "        self.name=name\n",
    "        self.email=email\n",
    "    def put(self):\n",
    "        print(self.name)\n",
    "        print(self.email)\n",
    "        \n",
    "class phdguide:\n",
    "    def __init__(self,name,email,students):\n",
    "        self.name=name\n",
    "        self.email=email\n",
    "        self.students=students\n",
    "    def put(self):\n",
    "        print(self.name)\n",
    "        print(self.email)\n",
    "        print(self.students)\n",
    "    def add(self,s1):\n",
    "        self.students.append(s1)\n",
    "    def remove(self,s1):\n",
    "        self.students.remove(s1)\n",
    "s1=student(\"s1\",\"s@mail\")\n",
    "s1.put()\n",
    "s=[\"s1\",\"s2\"]\n",
    "g1=phdguide(\"g1\",\"g@mail\",s)\n",
    "g1.put()"
   ]
  },
  {
   "cell_type": "code",
   "execution_count": 33,
   "metadata": {},
   "outputs": [
    {
     "name": "stdout",
     "output_type": "stream",
     "text": [
      "1\n",
      "abc\n",
      "20\n",
      "25\n",
      "------\n",
      "2\n",
      "xyz\n",
      "20\n",
      "25\n",
      "True\n"
     ]
    }
   ],
   "source": [
    "# create a class student with the following member attribute: rollno, name , age and total marks\n",
    "# create suitable methods for reading and printing member variables\n",
    "# wap to overload == operator to print the details of student having same marks\n",
    "\n",
    "class student:\n",
    "    def __init__(self,rollno,name,age,tm):\n",
    "        self.rollno=rollno\n",
    "        self.name=name\n",
    "        self.age=age\n",
    "        self.tm=tm\n",
    "        \n",
    "    def display(self):\n",
    "        print(self.rollno)\n",
    "        print(self.name)\n",
    "        print(self.age)\n",
    "        print(self.tm)\n",
    "        \n",
    "    def __eq__(self,other):\n",
    "        if(self.tm==other.tm):\n",
    "            return True\n",
    "        else:\n",
    "            return False\n",
    "        \n",
    "s1=student(1,\"abc\",20,25)\n",
    "s1.display()\n",
    "print(\"------\")\n",
    "\n",
    "s2=student(2,\"xyz\",20,25)\n",
    "s2.display()\n",
    "\n",
    "print(s1==s2)"
   ]
  },
  {
   "cell_type": "code",
   "execution_count": null,
   "metadata": {},
   "outputs": [],
   "source": []
  }
 ],
 "metadata": {
  "kernelspec": {
   "display_name": "Python 3",
   "language": "python",
   "name": "python3"
  },
  "language_info": {
   "codemirror_mode": {
    "name": "ipython",
    "version": 3
   },
   "file_extension": ".py",
   "mimetype": "text/x-python",
   "name": "python",
   "nbconvert_exporter": "python",
   "pygments_lexer": "ipython3",
   "version": "3.8.5"
  }
 },
 "nbformat": 4,
 "nbformat_minor": 4
}
