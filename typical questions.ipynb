{
 "cells": [
  {
   "cell_type": "code",
   "execution_count": 7,
   "metadata": {},
   "outputs": [
    {
     "name": "stdout",
     "output_type": "stream",
     "text": [
      "enter n1: 1\n",
      "enter n2: 20\n",
      "enter n3: 3\n",
      "6\n"
     ]
    }
   ],
   "source": [
    "# wap to read three numbers and check how many numbers available between first two numbers are divisible by third number \n",
    "\n",
    "n1=int(input(\"enter n1: \"))\n",
    "n2=int(input(\"enter n2: \"))\n",
    "n3=int(input(\"enter n3: \"))\n",
    "\n",
    "count=0\n",
    "for i in range(n1,n2+1):\n",
    "    if(i%n3==0):\n",
    "        count+=1\n",
    "#     print(i)\n",
    "print(count)"
   ]
  },
  {
   "cell_type": "code",
   "execution_count": 9,
   "metadata": {},
   "outputs": [
    {
     "name": "stdout",
     "output_type": "stream",
     "text": [
      "enter n: 5\n",
      "15\n"
     ]
    }
   ],
   "source": [
    "# wap to find sum of first n numbers, also find the average of that\n",
    "\n",
    "sum=0\n",
    "n=int(input(\"enter n: \"))\n",
    "for i in range(0,n+1):\n",
    "    sum=sum+i\n",
    "print(sum)"
   ]
  },
  {
   "cell_type": "code",
   "execution_count": 10,
   "metadata": {},
   "outputs": [
    {
     "name": "stdout",
     "output_type": "stream",
     "text": [
      "enter a number: 5\n",
      "5 * 1 = 5\n",
      "5 * 2 = 10\n",
      "5 * 3 = 15\n",
      "5 * 4 = 20\n",
      "5 * 5 = 25\n",
      "5 * 6 = 30\n",
      "5 * 7 = 35\n",
      "5 * 8 = 40\n",
      "5 * 9 = 45\n",
      "5 * 10 = 50\n"
     ]
    }
   ],
   "source": [
    "# wap to print the table of the given number\n",
    "\n",
    "n=int(input(\"enter a number: \"))\n",
    "for i in range(1,11):\n",
    "    print(n,\"*\",i,\"=\",n*i)"
   ]
  },
  {
   "cell_type": "code",
   "execution_count": 18,
   "metadata": {},
   "outputs": [
    {
     "name": "stdout",
     "output_type": "stream",
     "text": [
      "enter base: 3\n",
      "enter result: 1024\n"
     ]
    }
   ],
   "source": [
    "# wap to find an integer exponent x such that a^x=n (a and n are taken from user)\n",
    "\n",
    "a=int(input(\"enter base: \"))\n",
    "r=int(input(\"enter result: \"))\n",
    "\n",
    "ans=0\n",
    "for i in range(1,r+1):\n",
    "    ans=a**i\n",
    "    if(ans==r):\n",
    "        print(i)\n",
    "        break"
   ]
  },
  {
   "cell_type": "code",
   "execution_count": 21,
   "metadata": {},
   "outputs": [
    {
     "name": "stdout",
     "output_type": "stream",
     "text": [
      "n: 5\n",
      "120\n"
     ]
    }
   ],
   "source": [
    "# wap to find factorial of a given number\n",
    "\n",
    "a=int(input(\"n: \"))\n",
    "\n",
    "if(a==0 or a==1):\n",
    "    print(1)\n",
    "else:\n",
    "    fact=1\n",
    "    for i in range(1,a+1):\n",
    "        fact=fact*i\n",
    "    print(fact)"
   ]
  },
  {
   "cell_type": "code",
   "execution_count": 24,
   "metadata": {},
   "outputs": [
    {
     "name": "stdout",
     "output_type": "stream",
     "text": [
      "n: 10\n",
      "0 1 1 2 3 5 8 13 21 34 "
     ]
    }
   ],
   "source": [
    "# wap to display fibbonacci sequence upto nth term\n",
    "\n",
    "n=int(input(\"n: \"))\n",
    "x,y,z=0,1,1\n",
    "\n",
    "if n<0:\n",
    "    print(\"enter positive numbers only.\")\n",
    "else:\n",
    "    for i in range(n):\n",
    "        print(x,end=\" \")\n",
    "        z=x+y\n",
    "        x=y\n",
    "        y=z"
   ]
  },
  {
   "cell_type": "code",
   "execution_count": 1,
   "metadata": {},
   "outputs": [
    {
     "name": "stdout",
     "output_type": "stream",
     "text": [
      "enter 10 numbers: \n",
      "number 1:12\n",
      "number 2:13\n",
      "number 3:45\n",
      "number 4:1\n",
      "number 5:13\n",
      "number 6:44\n",
      "number 7:55\n",
      "number 8:5\n",
      "number 9:67\n",
      "number 10:88\n",
      "sum:  343\n",
      "average:  34.3\n"
     ]
    }
   ],
   "source": [
    "# wap to take 10 numbers from user and display their sum and average\n",
    "\n",
    "print(\"enter 10 numbers: \")\n",
    "sum=0\n",
    "for i in range(1,11):\n",
    "    n=int(input(f'number {i}:  '))\n",
    "    sum=sum+n\n",
    "print(\"sum: \",sum)\n",
    "print(\"average: \",sum/10)"
   ]
  },
  {
   "cell_type": "code",
   "execution_count": 3,
   "metadata": {},
   "outputs": [
    {
     "name": "stdout",
     "output_type": "stream",
     "text": [
      "enter 10 numbers: \n",
      "number 1:  1\n",
      "number 2:  2\n",
      "number 3:  3\n",
      "number 4:  4\n",
      "number 5:  5\n",
      "number 6:  6\n",
      "number 7:  7\n",
      "number 8:  8\n",
      "number 9:  9\n",
      "number 10:  10\n",
      "odd numbers (count):  5\n",
      "odd sum:  25\n",
      "even numbers (count):  5\n",
      "even sum:  30\n"
     ]
    }
   ],
   "source": [
    "# wap to count odd and even numbers and also do the sum of them \n",
    "\n",
    "print(\"enter 10 numbers: \")\n",
    "os,es=0,0\n",
    "oc,ec=0,0\n",
    "\n",
    "for i in range(1,11):\n",
    "    n=int(input(f'number {i}:  '))\n",
    "    if(n%2==0):\n",
    "        es=es+n\n",
    "        ec+=1\n",
    "    else:\n",
    "        os=os+n\n",
    "        oc+=1\n",
    "print(\"odd numbers (count): \",oc)\n",
    "print(\"odd sum: \",os)\n",
    "print(\"even numbers (count): \",ec)\n",
    "print(\"even sum: \",es)\n",
    "\n"
   ]
  },
  {
   "cell_type": "code",
   "execution_count": 1,
   "metadata": {},
   "outputs": [
    {
     "name": "stdout",
     "output_type": "stream",
     "text": [
      "enter 10 numbers: \n",
      "number 1:  -1\n",
      "number 2:  2\n",
      "number 3:  13\n",
      "number 4:  343\n",
      "number 5:  232\n",
      "number 6:  232\n",
      "number 7:  332\n",
      "number 8:  -6\n",
      "number 9:  96\n",
      "number 10:  34\n",
      "positive numbers (count):  8\n",
      "positive sum:  1284\n",
      "negative numbers (count):  2\n",
      "negative sum:  -7\n"
     ]
    }
   ],
   "source": [
    "# wap to count negative and positive numbers and also do the sum of them \n",
    "\n",
    "print(\"enter 10 numbers: \")\n",
    "ps,ns=0,0\n",
    "pc,nc=0,0\n",
    "\n",
    "for i in range(1,11):\n",
    "    n=int(input(f'number {i}:  '))\n",
    "    if(n<0):\n",
    "        ns=ns+n\n",
    "        nc+=1\n",
    "    else:\n",
    "        ps=ps+n\n",
    "        pc+=1\n",
    "print(\"positive numbers (count): \",pc)\n",
    "print(\"positive sum: \",ps)\n",
    "print(\"negative numbers (count): \",nc)\n",
    "print(\"negative sum: \",ns)\n"
   ]
  },
  {
   "cell_type": "code",
   "execution_count": 4,
   "metadata": {},
   "outputs": [
    {
     "name": "stdout",
     "output_type": "stream",
     "text": [
      "enter a number: 121\n",
      "reverse number:  121\n",
      "palindrome\n"
     ]
    }
   ],
   "source": [
    "# wap reverse of a given number\n",
    "\n",
    "n=int(input(\"enter a number: \"))\n",
    "temp=n\n",
    "rev=0\n",
    "while n!=0:\n",
    "    digit=n%10\n",
    "    rev=rev*10 + digit\n",
    "    n=n//10\n",
    "print(\"reverse number: \",rev)\n",
    "\n",
    "if(rev==temp):\n",
    "    print(\"palindrome\")"
   ]
  },
  {
   "cell_type": "code",
   "execution_count": 10,
   "metadata": {},
   "outputs": [
    {
     "name": "stdout",
     "output_type": "stream",
     "text": [
      "enter a number: 153\n",
      "Armstrong number.\n"
     ]
    }
   ],
   "source": [
    "# wap to check whether the given number is armstrong or not\n",
    "\n",
    "n=int(input(\"enter a number: \"))\n",
    "temp=n\n",
    "n1=n\n",
    "rev=0\n",
    "sum=0\n",
    "\n",
    "ctr=0\n",
    "while n!=0:\n",
    "    ctr+=1\n",
    "    n=n//10\n",
    "    \n",
    "while n1!=0:\n",
    "    digit=n1%10\n",
    "    sum=sum+(digit**ctr)\n",
    "    n1=n1//10\n",
    "\n",
    "if sum==temp:\n",
    "    print(\"Armstrong number.\")\n",
    "else:\n",
    "    print(\"Not an armstrong number.\")"
   ]
  },
  {
   "cell_type": "code",
   "execution_count": 19,
   "metadata": {},
   "outputs": [
    {
     "name": "stdout",
     "output_type": "stream",
     "text": [
      "enter a number: 17\n",
      "prime\n"
     ]
    }
   ],
   "source": [
    "# wap to check whether the given number is prime or not\n",
    "\n",
    "n=int(input(\"enter a number: \"))\n",
    "\n",
    "b1=False\n",
    "for i in range(2,n):\n",
    "    if(n%i==0):\n",
    "        b1=True\n",
    "        \n",
    "if(b1):\n",
    "    print(\"not prime\")\n",
    "else:\n",
    "    print(\"prime\")"
   ]
  },
  {
   "cell_type": "code",
   "execution_count": 23,
   "metadata": {},
   "outputs": [
    {
     "name": "stdout",
     "output_type": "stream",
     "text": [
      "enter a number: 20\n",
      "2 3 6 7 8 9 11 12 13 14 15 16 17 18 19 "
     ]
    }
   ],
   "source": [
    "# wap to print all the prime numbers upto n\n",
    "\n",
    "n=int(input(\"enter a number: \"))\n",
    "\n",
    "for i in range(2,n+1):\n",
    "    b1=False\n",
    "    for j in range(2,i):\n",
    "        if(n%i==0):\n",
    "            b1=True\n",
    "\n",
    "    if(b1==False):\n",
    "        print(i,end=\" \")"
   ]
  },
  {
   "cell_type": "code",
   "execution_count": null,
   "metadata": {},
   "outputs": [],
   "source": []
  }
 ],
 "metadata": {
  "kernelspec": {
   "display_name": "Python 3",
   "language": "python",
   "name": "python3"
  },
  "language_info": {
   "codemirror_mode": {
    "name": "ipython",
    "version": 3
   },
   "file_extension": ".py",
   "mimetype": "text/x-python",
   "name": "python",
   "nbconvert_exporter": "python",
   "pygments_lexer": "ipython3",
   "version": "3.8.5"
  }
 },
 "nbformat": 4,
 "nbformat_minor": 4
}
