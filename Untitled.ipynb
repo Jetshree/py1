{
 "cells": [
  {
   "cell_type": "code",
   "execution_count": 1,
   "metadata": {},
   "outputs": [
    {
     "ename": "AttributeError",
     "evalue": "'builtin_function_or_method' object has no attribute 'count'",
     "output_type": "error",
     "traceback": [
      "\u001b[1;31m---------------------------------------------------------------------------\u001b[0m",
      "\u001b[1;31mAttributeError\u001b[0m                            Traceback (most recent call last)",
      "\u001b[1;32m<ipython-input-1-1322bc5b13ea>\u001b[0m in \u001b[0;36m<module>\u001b[1;34m\u001b[0m\n\u001b[0;32m      3\u001b[0m \u001b[0mx\u001b[0m\u001b[1;33m=\u001b[0m\u001b[1;34m\"Welcome to usa USA is awesome Usain is from Usa\"\u001b[0m\u001b[1;33m\u001b[0m\u001b[1;33m\u001b[0m\u001b[0m\n\u001b[0;32m      4\u001b[0m \u001b[0ms\u001b[0m\u001b[1;33m=\u001b[0m\u001b[0mx\u001b[0m\u001b[1;33m.\u001b[0m\u001b[0mlower\u001b[0m\u001b[1;33m\u001b[0m\u001b[1;33m\u001b[0m\u001b[0m\n\u001b[1;32m----> 5\u001b[1;33m \u001b[0mprint\u001b[0m\u001b[1;33m(\u001b[0m\u001b[0ms\u001b[0m\u001b[1;33m.\u001b[0m\u001b[0mcount\u001b[0m\u001b[1;33m(\u001b[0m\u001b[1;34m\"usa\"\u001b[0m\u001b[1;33m)\u001b[0m\u001b[1;33m)\u001b[0m\u001b[1;33m\u001b[0m\u001b[1;33m\u001b[0m\u001b[0m\n\u001b[0m",
      "\u001b[1;31mAttributeError\u001b[0m: 'builtin_function_or_method' object has no attribute 'count'"
     ]
    }
   ],
   "source": [
    "# wap to find all occurances of a substring in a given string by ignoring the case\n",
    "\n",
    "x=\"Welcome to usa USA is awesome Usain is from Usa\"\n",
    "s=x.lower\n",
    "print(s.count(\"usa\"))"
   ]
  },
  {
   "cell_type": "code",
   "execution_count": 8,
   "metadata": {},
   "outputs": [
    {
     "name": "stdout",
     "output_type": "stream",
     "text": [
      " there are# m#ny #pecial character#\n"
     ]
    }
   ],
   "source": [
    "# wap to replace each special symbol with # in string\n",
    "\n",
    "import string\n",
    "s=\" there are* m@ny $pecial character$\"\n",
    "\n",
    "for a,b in enumerate(s):\n",
    "    if b in string.punctuation:\n",
    "        s=s.replace(b,\"#\")\n",
    "        \n",
    "print(s)"
   ]
  },
  {
   "cell_type": "code",
   "execution_count": 6,
   "metadata": {},
   "outputs": [
    {
     "name": "stdout",
     "output_type": "stream",
     "text": [
      " there are# m#ny #pecial character#\n"
     ]
    }
   ],
   "source": [
    "# alternative:\n",
    "\n",
    "import string\n",
    "s=\" there are* m@ny $pecial character$\"\n",
    "\n",
    "for i in string.punctuation:\n",
    "    s=s.replace(i,\"#\")\n",
    "print(s)"
   ]
  },
  {
   "cell_type": "code",
   "execution_count": 10,
   "metadata": {},
   "outputs": [
    {
     "name": "stdout",
     "output_type": "stream",
     "text": [
      "-45 98\n"
     ]
    }
   ],
   "source": [
    "# wap to print min and max element in the given tuple without use of min,max,sorting\n",
    "\n",
    "t=(4,56,21,98,18,-4,-45)\n",
    "\n",
    "min=t[0]\n",
    "max=t[0]\n",
    "\n",
    "for i in range(len(t)):\n",
    "    if t[i]>max:\n",
    "        max=t[i]\n",
    "    if t[i]<min:\n",
    "        min=t[i]\n",
    "        \n",
    "print(min, max)"
   ]
  },
  {
   "cell_type": "code",
   "execution_count": 16,
   "metadata": {},
   "outputs": [
    {
     "name": "stdout",
     "output_type": "stream",
     "text": [
      "hi\n",
      "four\n"
     ]
    }
   ],
   "source": [
    "# wap to print even length words in a given string\n",
    "\n",
    "s1=\" hi one two three four\"\n",
    "t=s1.split()\n",
    "\n",
    "for i in t:\n",
    "    if(len(i)%2==0):\n",
    "        print(i)"
   ]
  },
  {
   "cell_type": "code",
   "execution_count": 30,
   "metadata": {},
   "outputs": [
    {
     "name": "stdout",
     "output_type": "stream",
     "text": [
      "enter a string: hi how are you\n",
      "HI_HoW_ArE_YoU\n"
     ]
    }
   ],
   "source": [
    "# wap to capitalize first and last letter of the word\n",
    "\n",
    "s=input(\"enter a string: \")\n",
    "s=s.title()\n",
    "\n",
    "result=\"\"    \n",
    "\n",
    "for word in s.split():\n",
    "    result+=word[:-1]+word[-1].upper()+\"_\"\n",
    "print(result.rstrip(\"_\"))    \n",
    "\n",
    "# rstrip removes last character if it matches the given parameter\n",
    "# lstrip removes first character if it matches the given parameter"
   ]
  },
  {
   "cell_type": "code",
   "execution_count": 36,
   "metadata": {},
   "outputs": [
    {
     "name": "stdout",
     "output_type": "stream",
     "text": [
      "yes\n"
     ]
    }
   ],
   "source": [
    "# wap to check if two strings are balanced or not\n",
    "# s1 and s2 are balanced if all the characters in the s1 are present in s2...position of the characters does not matter\n",
    "\n",
    "s1=\"abc\"\n",
    "s2=\"acbd\"\n",
    "flag=0\n",
    "\n",
    "for i in s1:\n",
    "    if i in s2:\n",
    "        flag=1\n",
    "        continue\n",
    "    else:\n",
    "        flag=0\n",
    "if flag==1:\n",
    "    print(\"yes\")\n",
    "else:\n",
    "    print(\"no\")"
   ]
  },
  {
   "cell_type": "code",
   "execution_count": 46,
   "metadata": {},
   "outputs": [
    {
     "name": "stdout",
     "output_type": "stream",
     "text": [
      "enter shift:3\n",
      "45123\n"
     ]
    }
   ],
   "source": [
    "# wap to shift the decimal digits n places to the left wrapping the extra digits around, \n",
    "# if shift is greater than the number of digits then reverse the digits\n",
    "\n",
    "s1=12345\n",
    "s=int(input(\"enter shift:\"))\n",
    "n=str(s1)\n",
    "ans=\"\"\n",
    "if s>len(n):\n",
    "    ans=n[::-1]    # used to reverse the string\n",
    "else:\n",
    "    ans=n[s:]+n[:s]\n",
    "print(ans)"
   ]
  },
  {
   "cell_type": "code",
   "execution_count": 58,
   "metadata": {},
   "outputs": [
    {
     "name": "stdout",
     "output_type": "stream",
     "text": [
      "enter password: qewqwqwQ2332@%\n",
      "invalid\n"
     ]
    }
   ],
   "source": [
    "# wap to check validity of password\n",
    "# 1. min 8 characters\n",
    "# 2. alphabets must be between [a-z]\n",
    "# 3. atleast one uppercase character\n",
    "# 4. atleast 1 number between (0-9)\n",
    "# 5. atleast 1 character from [ _ or @ or $]\n",
    "\n",
    "s=input(\"enter password: \")\n",
    "flag=0\n",
    "\n",
    "if len(s)>=8:\n",
    "    for i in s:\n",
    "        if i in (\"abcdefghijklmnopqrstuvwxyz_@$1234567890ABCDEFGHIJKLMNOPQRSTUVWXYZ\"):\n",
    "            flag=1\n",
    "            continue\n",
    "        else:\n",
    "            flag=0\n",
    "    if flag==1:\n",
    "        print(\"valid password\")\n",
    "    else:\n",
    "        print(\"invalid\")\n",
    "else:\n",
    "    print(\"invalid password\")"
   ]
  },
  {
   "cell_type": "code",
   "execution_count": 59,
   "metadata": {},
   "outputs": [
    {
     "name": "stdout",
     "output_type": "stream",
     "text": [
      "Enter password:Jererfkjd@34673\n",
      "valid\n"
     ]
    }
   ],
   "source": [
    "# alter:\n",
    "\n",
    "# #wap to check validity of password:\n",
    "# --min 8 characters\n",
    "# --alphabets b/w a-z\n",
    "# --atleast one alpabet in uppercase\n",
    "# --atleast 1 number b/w 0-9\n",
    "# atleast 1 character from _,@,$\n",
    "s=input(\"Enter password:\")\n",
    "l=0\n",
    "u=0\n",
    "sp=0\n",
    "d=0\n",
    "special=\"$@_\"\n",
    "if len(s)<8:\n",
    "    print(\"invalid\")\n",
    "else:\n",
    "    #if(s.find('_')!=1 or s.find())\n",
    "    for i in s:\n",
    "        if(i.isalpha()):\n",
    "            if(i.islower()):\n",
    "                l+=1\n",
    "            if(i.isupper()):\n",
    "                u+=1\n",
    "        if(i.isdigit()):\n",
    "            d+=1\n",
    "        if(i in special):\n",
    "            sp+=1\n",
    "    if(l>0 and u>0 and d>0 and sp>0 and l+u+d+sp==len(s)):\n",
    "        print(\"valid\")\n",
    "    else:\n",
    "        print(\"invalid\")"
   ]
  },
  {
   "cell_type": "code",
   "execution_count": null,
   "metadata": {},
   "outputs": [],
   "source": []
  }
 ],
 "metadata": {
  "kernelspec": {
   "display_name": "Python 3",
   "language": "python",
   "name": "python3"
  },
  "language_info": {
   "codemirror_mode": {
    "name": "ipython",
    "version": 3
   },
   "file_extension": ".py",
   "mimetype": "text/x-python",
   "name": "python",
   "nbconvert_exporter": "python",
   "pygments_lexer": "ipython3",
   "version": "3.8.5"
  }
 },
 "nbformat": 4,
 "nbformat_minor": 4
}
