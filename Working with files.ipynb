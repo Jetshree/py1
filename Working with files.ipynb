{
 "cells": [
  {
   "cell_type": "markdown",
   "metadata": {},
   "source": [
    "## Working with files"
   ]
  },
  {
   "cell_type": "markdown",
   "metadata": {},
   "source": [
    "##### python inbuilt function:\n",
    "- create\n",
    "- read\n",
    "- write\n",
    "\n",
    "##### Types of files:\n",
    "- text file (termination for line '\\n')\n",
    "- binary file \n",
    "\n",
    "##### Modes:\n",
    "- r\n",
    "- w\n",
    "- a\n",
    "- r+\n",
    "- w+\n",
    "- a+"
   ]
  },
  {
   "cell_type": "code",
   "execution_count": 8,
   "metadata": {},
   "outputs": [
    {
     "name": "stdout",
     "output_type": "stream",
     "text": [
      "this file is made just for demo\n",
      "None\n",
      "True\n"
     ]
    }
   ],
   "source": [
    "# need to close file manually\n",
    "\n",
    "f=open(\"demo.txt\",\"r\")\n",
    "print(f.read()) \n",
    "print(f.close()) # None\n",
    "print(f.closed) # True"
   ]
  },
  {
   "cell_type": "code",
   "execution_count": 7,
   "metadata": {},
   "outputs": [
    {
     "name": "stdout",
     "output_type": "stream",
     "text": [
      "this file is made just for demo\n",
      "False\n",
      "True\n"
     ]
    }
   ],
   "source": [
    "# to close file automatically:\n",
    "# as we come out from intendation then the file closes automatically\n",
    "\n",
    "with open(\"demo.txt\",\"r\") as f:\n",
    "    print(f.read())\n",
    "    print(f.closed)\n",
    "print(f.closed)"
   ]
  },
  {
   "cell_type": "markdown",
   "metadata": {},
   "source": [
    "## Only reading:\n",
    "\n",
    "##### r \n",
    "- initial position: beginning\n",
    "- if file does not exist: error\n",
    "- default mode\n",
    "\n",
    "## Only writing:\n",
    "\n",
    "##### w\n",
    "- if file not found then creates it\n",
    "- truncates (if file opened in write mode then firstly it's made blank and new data is overwritten)\n",
    "\n",
    "##### a\n",
    "- initial position: end\n",
    "- if file not found then creates it\n",
    "- starts writing from end if the file already contains some data\n",
    "\n",
    "## Reading and writing:\n",
    "\n",
    "##### r+\n",
    "- if file not found: error\n",
    "- initial position: beginning\n",
    "\n",
    "##### a+\n",
    "- initial position: end\n",
    "\n",
    "##### w+\n",
    "- truncates\n"
   ]
  },
  {
   "cell_type": "markdown",
   "metadata": {},
   "source": [
    "## Summary:\n",
    "- read: r, r+, w+, a+\n",
    "- write: r+, w, w+, a+\n",
    "- create: w, w+, a, a+\n",
    "- truncate: w, w+\n",
    "- position at begin: r, r+, w, w+\n",
    "- position at end: a, a+"
   ]
  },
  {
   "cell_type": "code",
   "execution_count": 9,
   "metadata": {},
   "outputs": [
    {
     "ename": "ValueError",
     "evalue": "I/O operation on closed file.",
     "output_type": "error",
     "traceback": [
      "\u001b[1;31m---------------------------------------------------------------------------\u001b[0m",
      "\u001b[1;31mValueError\u001b[0m                                Traceback (most recent call last)",
      "\u001b[1;32m<ipython-input-9-737314ec8ff0>\u001b[0m in \u001b[0;36m<module>\u001b[1;34m\u001b[0m\n\u001b[0;32m      2\u001b[0m \u001b[0mf\u001b[0m\u001b[1;33m.\u001b[0m\u001b[0mwrite\u001b[0m\u001b[1;33m(\u001b[0m\u001b[1;34m\"this is java\"\u001b[0m\u001b[1;33m)\u001b[0m\u001b[1;33m\u001b[0m\u001b[1;33m\u001b[0m\u001b[0m\n\u001b[0;32m      3\u001b[0m \u001b[0mf\u001b[0m\u001b[1;33m.\u001b[0m\u001b[0mclose\u001b[0m\u001b[1;33m(\u001b[0m\u001b[1;33m)\u001b[0m\u001b[1;33m\u001b[0m\u001b[1;33m\u001b[0m\u001b[0m\n\u001b[1;32m----> 4\u001b[1;33m \u001b[0mprint\u001b[0m\u001b[1;33m(\u001b[0m\u001b[0mf\u001b[0m\u001b[1;33m.\u001b[0m\u001b[0mread\u001b[0m\u001b[1;33m(\u001b[0m\u001b[1;33m)\u001b[0m\u001b[1;33m)\u001b[0m\u001b[1;33m\u001b[0m\u001b[1;33m\u001b[0m\u001b[0m\n\u001b[0m",
      "\u001b[1;31mValueError\u001b[0m: I/O operation on closed file."
     ]
    }
   ],
   "source": [
    "f=open(\"demo.txt\",\"r+\")\n",
    "f.write(\"this is java\")\n",
    "f.close()\n",
    "print(f.read())"
   ]
  },
  {
   "cell_type": "code",
   "execution_count": 12,
   "metadata": {},
   "outputs": [],
   "source": [
    "f=open(\"demo.txt\",\"r+\")\n",
    "f.write(\"this is java\")\n",
    "# print(f.read())\n",
    "f.close()\n",
    "\n",
    "# demo.txt: this is python\n",
    "#     output: this is javaon"
   ]
  },
  {
   "cell_type": "code",
   "execution_count": 13,
   "metadata": {},
   "outputs": [
    {
     "ename": "UnsupportedOperation",
     "evalue": "not writable",
     "output_type": "error",
     "traceback": [
      "\u001b[1;31m---------------------------------------------------------------------------\u001b[0m",
      "\u001b[1;31mUnsupportedOperation\u001b[0m                      Traceback (most recent call last)",
      "\u001b[1;32m<ipython-input-13-8c0f17ea8ff7>\u001b[0m in \u001b[0;36m<module>\u001b[1;34m\u001b[0m\n\u001b[0;32m      1\u001b[0m \u001b[0mf\u001b[0m\u001b[1;33m=\u001b[0m\u001b[0mopen\u001b[0m\u001b[1;33m(\u001b[0m\u001b[1;34m\"demo.txt\"\u001b[0m\u001b[1;33m,\u001b[0m\u001b[1;34m\"r\"\u001b[0m\u001b[1;33m)\u001b[0m\u001b[1;33m\u001b[0m\u001b[1;33m\u001b[0m\u001b[0m\n\u001b[1;32m----> 2\u001b[1;33m \u001b[0mf\u001b[0m\u001b[1;33m.\u001b[0m\u001b[0mwrite\u001b[0m\u001b[1;33m(\u001b[0m\u001b[1;34m\"this is java\"\u001b[0m\u001b[1;33m)\u001b[0m\u001b[1;33m\u001b[0m\u001b[1;33m\u001b[0m\u001b[0m\n\u001b[0m",
      "\u001b[1;31mUnsupportedOperation\u001b[0m: not writable"
     ]
    }
   ],
   "source": [
    "f=open(\"demo.txt\",\"r\")\n",
    "f.write(\"this is java\")"
   ]
  },
  {
   "cell_type": "markdown",
   "metadata": {},
   "source": [
    "### Reading the files:\n",
    "- read() --> return type str\n",
    "- readline() --> return type str\n",
    "- readlines() --> return type list...includes \\n also"
   ]
  },
  {
   "cell_type": "code",
   "execution_count": 14,
   "metadata": {},
   "outputs": [],
   "source": [
    "# demo.txt:\n",
    "#     This is python1\n",
    "#     This is python2\n",
    "#     This is python3\n",
    "#     This is python4"
   ]
  },
  {
   "cell_type": "code",
   "execution_count": 15,
   "metadata": {},
   "outputs": [
    {
     "name": "stdout",
     "output_type": "stream",
     "text": [
      "This is python1\n",
      "This is python2\n",
      "This is python3\n",
      "This is python4\n",
      "\n"
     ]
    }
   ],
   "source": [
    "f=open(\"demo.txt\",\"r+\")\n",
    "print(f.read())\n",
    "print(f.read()) # won't work as the cursor has already reached to end of file in the previos read"
   ]
  },
  {
   "cell_type": "markdown",
   "metadata": {},
   "source": [
    "##### seek( index ) --> to change position of cursor\n",
    "##### tell() --> tells the current position of cursor"
   ]
  },
  {
   "cell_type": "code",
   "execution_count": 18,
   "metadata": {},
   "outputs": [
    {
     "name": "stdout",
     "output_type": "stream",
     "text": [
      "This is python1\n",
      "This is python2\n",
      "This is python3\n",
      "This is python4\n",
      "63\n",
      "0\n",
      "This is python1\n",
      "This is python2\n",
      "This is python3\n",
      "This is python4\n"
     ]
    }
   ],
   "source": [
    "f=open(\"demo.txt\",\"r+\")\n",
    "print(f.read())\n",
    "print(f.tell())\n",
    "f.seek(0)\n",
    "print(f.tell())\n",
    "print(f.read())"
   ]
  },
  {
   "cell_type": "markdown",
   "metadata": {},
   "source": [
    "##### note: new line in text file is counted as one character ..... '\\n'"
   ]
  },
  {
   "cell_type": "code",
   "execution_count": 21,
   "metadata": {},
   "outputs": [
    {
     "name": "stdout",
     "output_type": "stream",
     "text": [
      "9\n",
      "9\n"
     ]
    }
   ],
   "source": [
    "print(f.seek(9))\n",
    "print(f.tell())"
   ]
  },
  {
   "cell_type": "code",
   "execution_count": 33,
   "metadata": {},
   "outputs": [
    {
     "name": "stdout",
     "output_type": "stream",
     "text": [
      "This \n",
      "-----------\n",
      "is python1\n",
      "-----------\n",
      "\n",
      "Th\n",
      "-----------\n",
      "is is python2\n",
      "This i\n",
      "-----------\n",
      "s python3\n",
      "This is python4\n",
      "-----------\n",
      "This is python1\n",
      "This is python2\n",
      "This is python3\n",
      "This is python4\n",
      "-----------\n",
      "\n",
      "------------\n"
     ]
    }
   ],
   "source": [
    "f.seek(0)\n",
    "f=open(\"demo.txt\",\"r+\")\n",
    "print(f.read(5))\n",
    "print(\"-----------\")\n",
    "print(f.read(10))\n",
    "print(\"-----------\")\n",
    "print(f.read(3))\n",
    "print(\"-----------\")\n",
    "print(f.read(20))\n",
    "print(\"-----------\")\n",
    "print(f.read(-1))\n",
    "f.seek(0)\n",
    "print(\"-----------\")\n",
    "print(f.read(-3))\n",
    "f.seek(0)\n",
    "print(\"-----------\")\n",
    "print(f.read(0))\n",
    "print(\"------------\")"
   ]
  },
  {
   "cell_type": "code",
   "execution_count": 34,
   "metadata": {},
   "outputs": [
    {
     "name": "stdout",
     "output_type": "stream",
     "text": [
      "This \n",
      "-------------\n",
      "is pytho\n",
      "-------------\n",
      "n1\n",
      "\n",
      "-------------\n",
      "This is python2\n",
      "\n",
      "-------------\n",
      "This \n",
      "-------------\n",
      "is python3\n",
      "\n",
      "-------------\n"
     ]
    }
   ],
   "source": [
    "f=open(\"demo.txt\",\"r\")\n",
    "print(f.readline(5))\n",
    "print(\"-------------\")\n",
    "print(f.readline(8))\n",
    "print(\"-------------\")\n",
    "print(f.readline(10))\n",
    "print(\"-------------\")\n",
    "print(f.readline(20))\n",
    "print(\"-------------\")\n",
    "print(f.readline(5))\n",
    "print(\"-------------\")\n",
    "print(f.readline(50))\n",
    "print(\"-------------\")"
   ]
  },
  {
   "cell_type": "code",
   "execution_count": 36,
   "metadata": {},
   "outputs": [
    {
     "name": "stdout",
     "output_type": "stream",
     "text": [
      "['This is python1\\n', 'This is python2\\n', 'This is python3\\n', 'This is python4']\n"
     ]
    }
   ],
   "source": [
    "f=open(\"demo.txt\")\n",
    "print(f.readlines(306))"
   ]
  },
  {
   "cell_type": "code",
   "execution_count": 37,
   "metadata": {},
   "outputs": [
    {
     "name": "stdout",
     "output_type": "stream",
     "text": [
      "['This is python1\\n', 'This is python2\\n', 'This is python3\\n', 'This is python4']\n"
     ]
    }
   ],
   "source": [
    "f=open(\"demo.txt\")\n",
    "print(f.readlines(0))"
   ]
  },
  {
   "cell_type": "code",
   "execution_count": 38,
   "metadata": {},
   "outputs": [
    {
     "name": "stdout",
     "output_type": "stream",
     "text": [
      "['This is python1\\n', 'This is python2\\n']\n"
     ]
    }
   ],
   "source": [
    "f=open(\"demo.txt\")\n",
    "print(f.readlines(30))"
   ]
  },
  {
   "cell_type": "code",
   "execution_count": 39,
   "metadata": {},
   "outputs": [
    {
     "name": "stdout",
     "output_type": "stream",
     "text": [
      "['This is python1\\n', 'This is python2\\n', 'This is python3\\n', 'This is python4']\n"
     ]
    }
   ],
   "source": [
    "f=open(\"demo.txt\")\n",
    "print(f.readlines())"
   ]
  },
  {
   "cell_type": "code",
   "execution_count": 40,
   "metadata": {},
   "outputs": [
    {
     "name": "stdout",
     "output_type": "stream",
     "text": [
      "['This is python1\\n']\n"
     ]
    }
   ],
   "source": [
    "f=open(\"demo.txt\")\n",
    "print(f.readlines(3))"
   ]
  },
  {
   "cell_type": "code",
   "execution_count": 42,
   "metadata": {},
   "outputs": [
    {
     "name": "stdout",
     "output_type": "stream",
     "text": [
      "['This is python1\\n']\n"
     ]
    }
   ],
   "source": [
    "f=open(\"demo.txt\")\n",
    "print(f.readlines(15))"
   ]
  },
  {
   "cell_type": "code",
   "execution_count": 44,
   "metadata": {},
   "outputs": [
    {
     "name": "stdout",
     "output_type": "stream",
     "text": [
      "['This is python1\\n', 'This is python2\\n']\n"
     ]
    }
   ],
   "source": [
    "f=open(\"demo.txt\")\n",
    "print(f.readlines(16)) # here, 16 is index...17th character"
   ]
  },
  {
   "cell_type": "code",
   "execution_count": 45,
   "metadata": {},
   "outputs": [
    {
     "name": "stdout",
     "output_type": "stream",
     "text": [
      "['This is python1\\n', 'This is python2\\n', 'This is python3\\n', 'This is python4']\n"
     ]
    },
    {
     "data": {
      "text/plain": [
       "63"
      ]
     },
     "execution_count": 45,
     "metadata": {},
     "output_type": "execute_result"
    }
   ],
   "source": [
    "f=open(\"demo.txt\")\n",
    "print(f.readlines())\n",
    "f.tell()"
   ]
  },
  {
   "cell_type": "code",
   "execution_count": 49,
   "metadata": {},
   "outputs": [
    {
     "name": "stdout",
     "output_type": "stream",
     "text": [
      "['This is python1\\n', 'This is python2\\n']\n"
     ]
    },
    {
     "ename": "OSError",
     "evalue": "telling position disabled by next() call",
     "output_type": "error",
     "traceback": [
      "\u001b[1;31m---------------------------------------------------------------------------\u001b[0m",
      "\u001b[1;31mOSError\u001b[0m                                   Traceback (most recent call last)",
      "\u001b[1;32m<ipython-input-49-d05c44e0b7be>\u001b[0m in \u001b[0;36m<module>\u001b[1;34m\u001b[0m\n\u001b[0;32m      1\u001b[0m \u001b[0mf\u001b[0m\u001b[1;33m=\u001b[0m\u001b[0mopen\u001b[0m\u001b[1;33m(\u001b[0m\u001b[1;34m\"demo.txt\"\u001b[0m\u001b[1;33m)\u001b[0m\u001b[1;33m\u001b[0m\u001b[1;33m\u001b[0m\u001b[0m\n\u001b[0;32m      2\u001b[0m \u001b[0mprint\u001b[0m\u001b[1;33m(\u001b[0m\u001b[0mf\u001b[0m\u001b[1;33m.\u001b[0m\u001b[0mreadlines\u001b[0m\u001b[1;33m(\u001b[0m\u001b[1;36m30\u001b[0m\u001b[1;33m)\u001b[0m\u001b[1;33m)\u001b[0m\u001b[1;33m\u001b[0m\u001b[1;33m\u001b[0m\u001b[0m\n\u001b[1;32m----> 3\u001b[1;33m \u001b[0mf\u001b[0m\u001b[1;33m.\u001b[0m\u001b[0mtell\u001b[0m\u001b[1;33m(\u001b[0m\u001b[1;33m)\u001b[0m\u001b[1;33m\u001b[0m\u001b[1;33m\u001b[0m\u001b[0m\n\u001b[0m\u001b[0;32m      4\u001b[0m \u001b[1;31m# won't work when argument is passed in the readlines method\u001b[0m\u001b[1;33m\u001b[0m\u001b[1;33m\u001b[0m\u001b[1;33m\u001b[0m\u001b[0m\n\u001b[0;32m      5\u001b[0m \u001b[1;31m# because result is in the form of list\u001b[0m\u001b[1;33m\u001b[0m\u001b[1;33m\u001b[0m\u001b[1;33m\u001b[0m\u001b[0m\n",
      "\u001b[1;31mOSError\u001b[0m: telling position disabled by next() call"
     ]
    }
   ],
   "source": [
    "f=open(\"demo.txt\")\n",
    "print(f.readlines(30))\n",
    "f.tell() \n",
    "# won't work when argument is passed in the readlines method\n",
    "# because result is in the form of list"
   ]
  },
  {
   "cell_type": "markdown",
   "metadata": {},
   "source": [
    "### Writing the files:\n",
    "- write()\n",
    "- writelines()"
   ]
  },
  {
   "cell_type": "code",
   "execution_count": 53,
   "metadata": {},
   "outputs": [
    {
     "data": {
      "text/plain": [
       "17"
      ]
     },
     "execution_count": 53,
     "metadata": {},
     "output_type": "execute_result"
    }
   ],
   "source": [
    "f=open(\"b2.txt\",\"w\")\n",
    "f.write(\"this is test file\")\n",
    "# need to run twice, as in first time just the file is created, data isn't written"
   ]
  },
  {
   "cell_type": "code",
   "execution_count": 56,
   "metadata": {},
   "outputs": [],
   "source": [
    "f=open(\"b1.txt\",\"w\")\n",
    "f.write(\"this is test file\")\n",
    "f.close() # writes data even if run once...not mandatory but advisable to write"
   ]
  },
  {
   "cell_type": "code",
   "execution_count": 91,
   "metadata": {},
   "outputs": [
    {
     "name": "stdout",
     "output_type": "stream",
     "text": [
      "enter name: hji#\n",
      "enter name: gisw\\n\n",
      "enter name: hju/n\n"
     ]
    }
   ],
   "source": [
    "# take 3 names from user and write them into a separate file\n",
    "f=open(\"names.txt\",\"w\")\n",
    "for i in range(3):\n",
    "    name=input(\"enter name: \")\n",
    "    f.write(name)\n",
    "f.close()"
   ]
  },
  {
   "cell_type": "code",
   "execution_count": 93,
   "metadata": {},
   "outputs": [
    {
     "name": "stdout",
     "output_type": "stream",
     "text": [
      "['hji#gisw\\\\nhju/n']\n"
     ]
    }
   ],
   "source": [
    "f=open(\"names.txt\")\n",
    "print(f.readlines())"
   ]
  },
  {
   "cell_type": "code",
   "execution_count": 94,
   "metadata": {},
   "outputs": [
    {
     "name": "stdout",
     "output_type": "stream",
     "text": [
      "hji#gisw\\nhju/n\n"
     ]
    }
   ],
   "source": [
    "f=open(\"names.txt\")\n",
    "print(f.readline())"
   ]
  },
  {
   "cell_type": "code",
   "execution_count": 70,
   "metadata": {},
   "outputs": [
    {
     "name": "stdout",
     "output_type": "stream",
     "text": [
      "enter name: hjdf\n",
      "enter name: hdde\n",
      "enter name: jjide\n"
     ]
    }
   ],
   "source": [
    "# take 3 names from user and write them into a separate file\n",
    "f=open(\"names1.txt\",\"w\")\n",
    "for i in range(3):\n",
    "    name=input(\"enter name: \")\n",
    "    f.write(name+\"\\n\")\n",
    "f.close()"
   ]
  },
  {
   "cell_type": "code",
   "execution_count": 71,
   "metadata": {},
   "outputs": [
    {
     "name": "stdout",
     "output_type": "stream",
     "text": [
      "['hjdf\\n', 'hdde\\n', 'jjide\\n']\n"
     ]
    }
   ],
   "source": [
    "f=open(\"names1.txt\")\n",
    "print(f.readlines())"
   ]
  },
  {
   "cell_type": "code",
   "execution_count": 78,
   "metadata": {},
   "outputs": [
    {
     "name": "stdout",
     "output_type": "stream",
     "text": [
      "hjdf\n",
      "\n"
     ]
    }
   ],
   "source": [
    "f=open(\"names1.txt\")\n",
    "f.seek(0)\n",
    "print(f.readline())"
   ]
  },
  {
   "cell_type": "code",
   "execution_count": 95,
   "metadata": {},
   "outputs": [],
   "source": [
    "f=open(\"b2.txt\",\"w\")\n",
    "l=[\"a\",\"b\",\"c\"]\n",
    "f.writelines(l)\n",
    "f.close()\n",
    "# output: abc"
   ]
  },
  {
   "cell_type": "code",
   "execution_count": 96,
   "metadata": {},
   "outputs": [],
   "source": [
    "f=open(\"b2.txt\",\"w\")\n",
    "l=[\"a\\n\",\"b\\n\",\"c\\n\"]\n",
    "f.writelines(l)\n",
    "f.close()\n",
    "# output:\n",
    "#     a\n",
    "#     b\n",
    "#     c\n",
    "#"
   ]
  },
  {
   "cell_type": "code",
   "execution_count": 97,
   "metadata": {},
   "outputs": [
    {
     "name": "stdout",
     "output_type": "stream",
     "text": [
      "enter value: gdg\n",
      "enter value: jks\n",
      "enter value: hjd\n",
      "enter value: jdj\n"
     ]
    }
   ],
   "source": [
    "f1=open(\"users.txt\",\"w\")\n",
    "l=[]\n",
    "for i in range(0,4):\n",
    "    x=input(\"enter value: \")\n",
    "    l+=[x+\"\\n\"]\n",
    "f1.writelines(l)\n",
    "f1.close()"
   ]
  },
  {
   "cell_type": "code",
   "execution_count": 98,
   "metadata": {},
   "outputs": [],
   "source": [
    "# wap to copy data from one file into another\n",
    "f1=open(\"b2.txt\",\"r\")\n",
    "f2=open(\"users.txt\",\"w\")\n",
    "l1=f1.readlines()\n",
    "for i in l1:\n",
    "    f2.write(i)\n",
    "f2.close()"
   ]
  },
  {
   "cell_type": "code",
   "execution_count": null,
   "metadata": {},
   "outputs": [],
   "source": []
  }
 ],
 "metadata": {
  "kernelspec": {
   "display_name": "Python 3",
   "language": "python",
   "name": "python3"
  },
  "language_info": {
   "codemirror_mode": {
    "name": "ipython",
    "version": 3
   },
   "file_extension": ".py",
   "mimetype": "text/x-python",
   "name": "python",
   "nbconvert_exporter": "python",
   "pygments_lexer": "ipython3",
   "version": "3.8.5"
  }
 },
 "nbformat": 4,
 "nbformat_minor": 4
}
