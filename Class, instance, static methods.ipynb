{
 "cells": [
  {
   "cell_type": "markdown",
   "metadata": {},
   "source": [
    "### Static method"
   ]
  },
  {
   "cell_type": "code",
   "execution_count": 15,
   "metadata": {},
   "outputs": [
    {
     "name": "stdout",
     "output_type": "stream",
     "text": [
      "Emp name:  abc\n",
      "Emp age:  34\n",
      "Emp salary:  50000\n"
     ]
    },
    {
     "ename": "TypeError",
     "evalue": "display() takes 1 positional argument but 2 were given",
     "output_type": "error",
     "traceback": [
      "\u001b[1;31m---------------------------------------------------------------------------\u001b[0m",
      "\u001b[1;31mTypeError\u001b[0m                                 Traceback (most recent call last)",
      "\u001b[1;32m<ipython-input-15-eed13deb55b2>\u001b[0m in \u001b[0;36m<module>\u001b[1;34m\u001b[0m\n\u001b[0;32m     14\u001b[0m \u001b[0memp1\u001b[0m\u001b[1;33m.\u001b[0m\u001b[0mdisplay\u001b[0m\u001b[1;33m(\u001b[0m\u001b[1;33m)\u001b[0m\u001b[1;33m\u001b[0m\u001b[1;33m\u001b[0m\u001b[0m\n\u001b[0;32m     15\u001b[0m \u001b[0memp2\u001b[0m\u001b[1;33m=\u001b[0m\u001b[0mEmployee\u001b[0m\u001b[1;33m(\u001b[0m\u001b[1;34m\"pqr\"\u001b[0m\u001b[1;33m,\u001b[0m\u001b[1;36m34\u001b[0m\u001b[1;33m,\u001b[0m\u001b[1;36m50000\u001b[0m\u001b[1;33m)\u001b[0m\u001b[1;33m\u001b[0m\u001b[1;33m\u001b[0m\u001b[0m\n\u001b[1;32m---> 16\u001b[1;33m \u001b[0memp2\u001b[0m\u001b[1;33m.\u001b[0m\u001b[0mdisplay\u001b[0m\u001b[1;33m(\u001b[0m\u001b[0memp2\u001b[0m\u001b[1;33m)\u001b[0m\u001b[1;33m\u001b[0m\u001b[1;33m\u001b[0m\u001b[0m\n\u001b[0m\u001b[0;32m     17\u001b[0m \u001b[0memp1\u001b[0m\u001b[1;33m.\u001b[0m\u001b[0madd\u001b[0m\u001b[1;33m(\u001b[0m\u001b[1;36m20\u001b[0m\u001b[1;33m,\u001b[0m\u001b[1;36m30\u001b[0m\u001b[1;33m)\u001b[0m\u001b[1;33m\u001b[0m\u001b[1;33m\u001b[0m\u001b[0m\n\u001b[0;32m     18\u001b[0m \u001b[0memp2\u001b[0m\u001b[1;33m.\u001b[0m\u001b[0madd\u001b[0m\u001b[1;33m(\u001b[0m\u001b[1;34m\"afc\"\u001b[0m\u001b[1;33m,\u001b[0m\u001b[1;34m\"xio\"\u001b[0m\u001b[1;33m)\u001b[0m\u001b[1;33m\u001b[0m\u001b[1;33m\u001b[0m\u001b[0m\n",
      "\u001b[1;31mTypeError\u001b[0m: display() takes 1 positional argument but 2 were given"
     ]
    }
   ],
   "source": [
    "class Employee:\n",
    "    def __init__(self,name,age,salary):\n",
    "        self.name=name\n",
    "        self.age=age\n",
    "        self.salary=salary\n",
    "    def display(self):\n",
    "        print(\"Emp name: \",self.name)\n",
    "        print(\"Emp age: \",self.age)\n",
    "        print(\"Emp salary: \",self.salary)\n",
    "    @staticmethod\n",
    "    def add(a,b):\n",
    "        print(a+b)\n",
    "emp1=Employee(\"abc\",34,50000)\n",
    "emp1.display()\n",
    "emp2=Employee(\"pqr\",34,50000)\n",
    "emp2.display(emp2)\n",
    "emp1.add(20,30)\n",
    "emp2.add(\"afc\",\"xio\")"
   ]
  },
  {
   "cell_type": "markdown",
   "metadata": {},
   "source": [
    "### Method with self as argument"
   ]
  },
  {
   "cell_type": "code",
   "execution_count": 11,
   "metadata": {},
   "outputs": [
    {
     "name": "stdout",
     "output_type": "stream",
     "text": [
      "car model:  BMW\n",
      "car color:  red\n",
      "car year:  2005\n",
      "car model:  Baleno\n",
      "car color:  white\n",
      "car year:  2020\n"
     ]
    }
   ],
   "source": [
    "# create a class car with model, color, year\n",
    "\n",
    "class Car:\n",
    "    def __init__(self,model,color,year): # default method called when any object is created\n",
    "        self.model=model\n",
    "        self.color=color\n",
    "        self.year=year\n",
    "    def display(self):\n",
    "        print(\"car model: \",self.model)\n",
    "        print(\"car color: \",self.color)\n",
    "        print(\"car year: \",self.year)\n",
    "e1=Car(\"BMW\",\"red\",2005)\n",
    "e1.display()\n",
    "e2=Car(\"Baleno\",\"white\",2020)\n",
    "e2.display()"
   ]
  },
  {
   "cell_type": "code",
   "execution_count": 12,
   "metadata": {},
   "outputs": [
    {
     "name": "stdout",
     "output_type": "stream",
     "text": [
      "name:  Harry\n",
      "salary:  500\n",
      "role:  Doctor\n",
      "name:  Rohan\n",
      "salary:  60000000\n",
      "role:  Engineer\n"
     ]
    }
   ],
   "source": [
    "class Employee:\n",
    "    no_of_leaves=5\n",
    "    def printdetails(self):\n",
    "        print(\"name: \",self.name)\n",
    "        print(\"salary: \",self.salary)\n",
    "        print(\"role: \",self.role)\n",
    "harry=Employee()\n",
    "rohan=Employee()\n",
    "\n",
    "harry.name=\"Harry\"\n",
    "harry.salary=500\n",
    "harry.role=\"Doctor\"\n",
    "rohan.name=\"Rohan\"\n",
    "rohan.salary=60000000\n",
    "rohan.role=\"Engineer\"\n",
    "harry.printdetails()\n",
    "rohan.printdetails()"
   ]
  },
  {
   "cell_type": "markdown",
   "metadata": {},
   "source": [
    "### Parameterized constructor"
   ]
  },
  {
   "cell_type": "code",
   "execution_count": 14,
   "metadata": {},
   "outputs": [
    {
     "name": "stdout",
     "output_type": "stream",
     "text": [
      "name:  Harry\n",
      "salary:  50000\n",
      "role:  Doctor\n",
      "name:  Rohan\n",
      "salary:  89000\n",
      "role:  Engineer\n"
     ]
    }
   ],
   "source": [
    "class Employee:\n",
    "    no_of_leaves=5\n",
    "    def __init__(self,name,salary,role):\n",
    "        self.name=name\n",
    "        self.salary=salary\n",
    "        self.role=role\n",
    "    def printdetails(self):\n",
    "        print(\"name: \",self.name)\n",
    "        print(\"salary: \",self.salary)\n",
    "        print(\"role: \",self.role)\n",
    "harry=Employee(\"Harry\",50000,\"Doctor\")\n",
    "rohan=Employee(\"Rohan\",89000,\"Engineer\")\n",
    "harry.printdetails()\n",
    "rohan.printdetails()"
   ]
  },
  {
   "cell_type": "code",
   "execution_count": 17,
   "metadata": {},
   "outputs": [
    {
     "name": "stdout",
     "output_type": "stream",
     "text": [
      "50\n"
     ]
    }
   ],
   "source": [
    "class Test:\n",
    "    def __init__(self):\n",
    "        self.value=50\n",
    "        self.show()\n",
    "    def show(self):\n",
    "        print(self.value)\n",
    "a=Test()"
   ]
  },
  {
   "cell_type": "code",
   "execution_count": 23,
   "metadata": {},
   "outputs": [
    {
     "name": "stdout",
     "output_type": "stream",
     "text": [
      "Address of self:  1961946186128\n",
      "Address of obj:  1961946186128\n",
      "5\n",
      "Address of self:  1961946189536\n",
      "Address of obj1:  1961946189536\n",
      "4\n"
     ]
    }
   ],
   "source": [
    "class check:\n",
    "    def __init__(self,m):\n",
    "        print(\"Address of self: \",id(self))\n",
    "        self.m=m\n",
    "obj=check(5)\n",
    "print(\"Address of obj: \",id(obj))\n",
    "print(obj.m)\n",
    "# print(self.m) ----> NameError\n",
    "obj1=check(4)\n",
    "print(\"Address of obj1: \",id(obj1))\n",
    "print(obj1.m)"
   ]
  },
  {
   "cell_type": "code",
   "execution_count": 24,
   "metadata": {},
   "outputs": [
    {
     "name": "stdout",
     "output_type": "stream",
     "text": [
      "5 5 140726158108576 140726158108576\n",
      "10 5 140726158108736 140726158108576\n"
     ]
    }
   ],
   "source": [
    "class Account():\n",
    "    rate=5\n",
    "    def some_method(self):\n",
    "        print(self.rate,Account.rate,id(self.rate),id(Account.rate))\n",
    "        self.rate=10\n",
    "        print(self.rate,Account.rate,id(self.rate),id(Account.rate))\n",
    "a1=Account()\n",
    "a2=Account()\n",
    "a1.some_method()"
   ]
  },
  {
   "cell_type": "markdown",
   "metadata": {},
   "source": [
    "## Concept of self and other"
   ]
  },
  {
   "cell_type": "code",
   "execution_count": 26,
   "metadata": {},
   "outputs": [
    {
     "name": "stdout",
     "output_type": "stream",
     "text": [
      "30 30\n",
      "30 30\n",
      "Age is same\n",
      "35 30\n",
      "35 30\n",
      "Age is different\n"
     ]
    }
   ],
   "source": [
    "class Person:\n",
    "    def __init__(self):\n",
    "        self.name=\"John\"\n",
    "        self.age=30\n",
    "    def update(self):\n",
    "        self.age=35\n",
    "    def compare(self,other):\n",
    "        print(self.age,other.age)\n",
    "        if self.age==other.age:\n",
    "            print(\"Age is same\")\n",
    "        else:\n",
    "            print(\"Age is different\")\n",
    "p1=Person()\n",
    "p2=Person()\n",
    "print(p1.age,p2.age)\n",
    "p1.compare(p2)\n",
    "p1.update()\n",
    "print(p1.age,p2.age)\n",
    "p1.compare(p2)"
   ]
  },
  {
   "cell_type": "code",
   "execution_count": 27,
   "metadata": {},
   "outputs": [
    {
     "name": "stdout",
     "output_type": "stream",
     "text": [
      "30 30\n",
      "30 30\n",
      "Age is same\n",
      "35 30\n",
      "35 30\n",
      "Age is different\n"
     ]
    }
   ],
   "source": [
    "# note: self is not a keyword \n",
    "\n",
    "class Person:\n",
    "    def __init__(sel):\n",
    "        sel.name=\"John\"\n",
    "        sel.age=30\n",
    "    def update(sel):\n",
    "        sel.age=35\n",
    "    def compare(sel,other):\n",
    "        print(sel.age,other.age)\n",
    "        if sel.age==other.age:\n",
    "            print(\"Age is same\")\n",
    "        else:\n",
    "            print(\"Age is different\")\n",
    "p1=Person()\n",
    "p2=Person()\n",
    "print(p1.age,p2.age)\n",
    "p1.compare(p2)\n",
    "p1.update()\n",
    "print(p1.age,p2.age)\n",
    "p1.compare(p2)"
   ]
  },
  {
   "cell_type": "markdown",
   "metadata": {},
   "source": [
    "# Destructor  (_ __del__ _)\n",
    "- used to the clean up activity before destroying an object such as closing database connections or file handle\n",
    "- py has a garbage collection that handles memory management automatically\n",
    "- it cleans up memory when an object goes out of scope"
   ]
  },
  {
   "cell_type": "code",
   "execution_count": 29,
   "metadata": {},
   "outputs": [
    {
     "name": "stdout",
     "output_type": "stream",
     "text": [
      "Harry 50000 Doctor\n",
      "Rohan 89000 Engineer\n",
      "object destroyed\n"
     ]
    },
    {
     "ename": "NameError",
     "evalue": "name 'harry' is not defined",
     "output_type": "error",
     "traceback": [
      "\u001b[1;31m---------------------------------------------------------------------------\u001b[0m",
      "\u001b[1;31mNameError\u001b[0m                                 Traceback (most recent call last)",
      "\u001b[1;32m<ipython-input-29-15f4329e914c>\u001b[0m in \u001b[0;36m<module>\u001b[1;34m\u001b[0m\n\u001b[0;32m     15\u001b[0m \u001b[1;33m\u001b[0m\u001b[0m\n\u001b[0;32m     16\u001b[0m \u001b[1;32mdel\u001b[0m \u001b[0mharry\u001b[0m\u001b[1;33m\u001b[0m\u001b[1;33m\u001b[0m\u001b[0m\n\u001b[1;32m---> 17\u001b[1;33m \u001b[0mharry\u001b[0m\u001b[1;33m.\u001b[0m\u001b[0mprintdetails\u001b[0m\u001b[1;33m(\u001b[0m\u001b[1;33m)\u001b[0m\u001b[1;33m\u001b[0m\u001b[1;33m\u001b[0m\u001b[0m\n\u001b[0m",
      "\u001b[1;31mNameError\u001b[0m: name 'harry' is not defined"
     ]
    }
   ],
   "source": [
    "class Employee:\n",
    "    no_of_leaves=5\n",
    "    def __init__(self,name,salary,role):\n",
    "        self.name=name\n",
    "        self.salary=salary\n",
    "        self.role=role\n",
    "    def __del__(self): # this is made just to display a msg...del will work without this too\n",
    "        print(\"object destroyed\")\n",
    "    def printdetails(self):\n",
    "        print(self.name,self.salary,self.role)\n",
    "harry=Employee(\"Harry\",50000,\"Doctor\")\n",
    "rohan=Employee(\"Rohan\",89000,\"Engineer\")\n",
    "harry.printdetails()\n",
    "rohan.printdetails()\n",
    "\n",
    "del harry\n",
    "harry.printdetails()"
   ]
  },
  {
   "cell_type": "markdown",
   "metadata": {},
   "source": [
    "## Class variable vs instance variable "
   ]
  },
  {
   "cell_type": "code",
   "execution_count": 33,
   "metadata": {},
   "outputs": [
    {
     "name": "stdout",
     "output_type": "stream",
     "text": [
      "yes\n",
      "yes\n"
     ]
    }
   ],
   "source": [
    "class Mobile:\n",
    "    fp=\"yes\" # class variable\n",
    "    @classmethod\n",
    "    def show(cls): # class method\n",
    "        print(cls.fp) # accessing class variable inside class method\n",
    "realme=Mobile()\n",
    "print(Mobile.fp) # accessing class variable outside the class\n",
    "Mobile.show()"
   ]
  },
  {
   "cell_type": "code",
   "execution_count": 35,
   "metadata": {},
   "outputs": [
    {
     "name": "stdout",
     "output_type": "stream",
     "text": [
      "realme x\n"
     ]
    }
   ],
   "source": [
    "class Mobile:\n",
    "    def __init__(self):\n",
    "        self.model=\"realme x\" # instance variable\n",
    "    def show_model(self): # instance method\n",
    "        print(self.model) # accessing instance variable inside instance method\n",
    "realme=Mobile()\n",
    "print(realme.model) # accessing instance var outside class"
   ]
  },
  {
   "cell_type": "code",
   "execution_count": 37,
   "metadata": {},
   "outputs": [
    {
     "name": "stdout",
     "output_type": "stream",
     "text": [
      "yes\n",
      "realme x\n",
      "yes\n"
     ]
    },
    {
     "ename": "TypeError",
     "evalue": "show_model() missing 1 required positional argument: 'self'",
     "output_type": "error",
     "traceback": [
      "\u001b[1;31m---------------------------------------------------------------------------\u001b[0m",
      "\u001b[1;31mTypeError\u001b[0m                                 Traceback (most recent call last)",
      "\u001b[1;32m<ipython-input-37-d4c67a155b33>\u001b[0m in \u001b[0;36m<module>\u001b[1;34m\u001b[0m\n\u001b[0;32m     16\u001b[0m \u001b[0mrealme\u001b[0m\u001b[1;33m.\u001b[0m\u001b[0mshow_model\u001b[0m\u001b[1;33m(\u001b[0m\u001b[1;33m)\u001b[0m\u001b[1;33m\u001b[0m\u001b[1;33m\u001b[0m\u001b[0m\n\u001b[0;32m     17\u001b[0m \u001b[0mMobile\u001b[0m\u001b[1;33m.\u001b[0m\u001b[0mshow\u001b[0m\u001b[1;33m(\u001b[0m\u001b[1;33m)\u001b[0m\u001b[1;33m\u001b[0m\u001b[1;33m\u001b[0m\u001b[0m\n\u001b[1;32m---> 18\u001b[1;33m \u001b[0mMobile\u001b[0m\u001b[1;33m.\u001b[0m\u001b[0mshow_model\u001b[0m\u001b[1;33m(\u001b[0m\u001b[1;33m)\u001b[0m\u001b[1;33m\u001b[0m\u001b[1;33m\u001b[0m\u001b[0m\n\u001b[0m",
      "\u001b[1;31mTypeError\u001b[0m: show_model() missing 1 required positional argument: 'self'"
     ]
    }
   ],
   "source": [
    "class Mobile:\n",
    "    fp=\"yes\" # class variable\n",
    "    \n",
    "    def __init__(self):\n",
    "        self.model=\"realme x\" # instance variable\n",
    "    \n",
    "    def show_model(self): # instance method\n",
    "        print(self.model) # accessing instance variable inside instance method\n",
    "    \n",
    "    @classmethod\n",
    "    def show(cls): # class method\n",
    "        print(cls.fp) # accessing class variable inside class method\n",
    "\n",
    "realme=Mobile()\n",
    "realme.show()\n",
    "realme.show_model()\n",
    "Mobile.show()\n",
    "Mobile.show_model()"
   ]
  },
  {
   "cell_type": "markdown",
   "metadata": {},
   "source": [
    "#### Note: Object can access both type of methods whereas class cannot access instance method"
   ]
  },
  {
   "cell_type": "code",
   "execution_count": 41,
   "metadata": {},
   "outputs": [
    {
     "name": "stdout",
     "output_type": "stream",
     "text": [
      "the name is :  orange\n",
      "the name is :  banana\n",
      "the name is :  banana\n",
      "the name is :  cherry\n"
     ]
    }
   ],
   "source": [
    "class adafruit:\n",
    "    name=\"orange\"\n",
    "    @classmethod\n",
    "    def printname(cl):\n",
    "        print(\"the name is : \",cl.name)\n",
    "adafruit.printname()\n",
    "apple=adafruit()\n",
    "adafruit.name=\"banana\"\n",
    "adafruit.printname()\n",
    "apple.name=\"cherry\"\n",
    "apple.printname()\n",
    "# class variable can't be changed with object...need to use class\n",
    "adafruit.name=\"cherry\"\n",
    "adafruit.printname()"
   ]
  },
  {
   "cell_type": "code",
   "execution_count": 42,
   "metadata": {},
   "outputs": [
    {
     "name": "stdout",
     "output_type": "stream",
     "text": [
      "BMW 8 3\n",
      "BMW 10 4\n"
     ]
    }
   ],
   "source": [
    "class car:\n",
    "    wheels=4\n",
    "    def __init__(self):\n",
    "        self.mileage=10\n",
    "        self.model=\"BMW\"\n",
    "c1=car()\n",
    "c2=car()\n",
    "c1.mileage=8\n",
    "c1.wheels=3\n",
    "print(c1.model,c1.mileage,c1.wheels)\n",
    "print(c2.model,c2.mileage,c2.wheels)"
   ]
  },
  {
   "cell_type": "code",
   "execution_count": null,
   "metadata": {},
   "outputs": [],
   "source": []
  }
 ],
 "metadata": {
  "kernelspec": {
   "display_name": "Python 3",
   "language": "python",
   "name": "python3"
  },
  "language_info": {
   "codemirror_mode": {
    "name": "ipython",
    "version": 3
   },
   "file_extension": ".py",
   "mimetype": "text/x-python",
   "name": "python",
   "nbconvert_exporter": "python",
   "pygments_lexer": "ipython3",
   "version": "3.8.5"
  }
 },
 "nbformat": 4,
 "nbformat_minor": 4
}
