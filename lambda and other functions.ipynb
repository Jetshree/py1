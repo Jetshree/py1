{
 "cells": [
  {
   "cell_type": "markdown",
   "metadata": {},
   "source": [
    "### Lambda function\n",
    "\n",
    "##### syntax: lambda argument list: expression\n",
    "\n",
    "    1. function with any name\n",
    "    2.  nameless, anonymous, lambda function "
   ]
  },
  {
   "cell_type": "code",
   "execution_count": 1,
   "metadata": {},
   "outputs": [
    {
     "name": "stdout",
     "output_type": "stream",
     "text": [
      "25\n"
     ]
    }
   ],
   "source": [
    "# normal function \n",
    "\n",
    "def square(n):\n",
    "    return n*n\n",
    "print(square(5))"
   ]
  },
  {
   "cell_type": "code",
   "execution_count": 2,
   "metadata": {},
   "outputs": [
    {
     "name": "stdout",
     "output_type": "stream",
     "text": [
      "16\n",
      "25\n"
     ]
    }
   ],
   "source": [
    "# lambda function \n",
    "\n",
    "s= lambda n: n*n\n",
    "print(s(4))\n",
    "print(s(5))"
   ]
  },
  {
   "cell_type": "code",
   "execution_count": 4,
   "metadata": {},
   "outputs": [
    {
     "name": "stdout",
     "output_type": "stream",
     "text": [
      "4\n"
     ]
    }
   ],
   "source": [
    "# sum of two numbers\n",
    "\n",
    "def sum(a,b):\n",
    "    return a+b\n",
    "print(sum(1,3))"
   ]
  },
  {
   "cell_type": "code",
   "execution_count": 5,
   "metadata": {},
   "outputs": [
    {
     "name": "stdout",
     "output_type": "stream",
     "text": [
      "4\n"
     ]
    }
   ],
   "source": [
    "# lambda function to find sum of two numbers\n",
    "\n",
    "s=lambda a,b: a+b\n",
    "print(s(1,3))"
   ]
  },
  {
   "cell_type": "markdown",
   "metadata": {},
   "source": [
    "### map() function\n",
    "\n",
    "##### syntax: map(function, sequence)\n",
    "\n",
    "  for every element present in given sequence, apply same functionality and generate new element with required modification"
   ]
  },
  {
   "cell_type": "code",
   "execution_count": 7,
   "metadata": {},
   "outputs": [
    {
     "name": "stdout",
     "output_type": "stream",
     "text": [
      "[2, 8, 6, 8, 10]\n"
     ]
    }
   ],
   "source": [
    "l=[1,4,3,4,5]\n",
    "\n",
    "def double(x):\n",
    "    return 2*x\n",
    "l1=list(map(double,l))\n",
    "print(l1)"
   ]
  },
  {
   "cell_type": "code",
   "execution_count": 8,
   "metadata": {},
   "outputs": [
    {
     "name": "stdout",
     "output_type": "stream",
     "text": [
      "[2, 8, 6, 8, 10]\n"
     ]
    }
   ],
   "source": [
    "l1=list(map(lambda x:2*x,l))\n",
    "print(l1)"
   ]
  },
  {
   "cell_type": "code",
   "execution_count": 12,
   "metadata": {},
   "outputs": [
    {
     "name": "stdout",
     "output_type": "stream",
     "text": [
      "[4, 6, 8, 10]\n"
     ]
    }
   ],
   "source": [
    "l1=[1,2,3,4]\n",
    "l2=[3,4,5,6]\n",
    "l3=list(map(lambda x,y: x+y,l1,l2))\n",
    "print(l3)"
   ]
  },
  {
   "cell_type": "code",
   "execution_count": 14,
   "metadata": {},
   "outputs": [
    {
     "name": "stdout",
     "output_type": "stream",
     "text": [
      "<map object at 0x0000026DD1FC6A30>\n"
     ]
    }
   ],
   "source": [
    "l1=[1,2,3,4]\n",
    "l2=[3,4,5,6]\n",
    "l3=map(lambda x,y: x+y,l1,l2)\n",
    "print(l3)"
   ]
  },
  {
   "cell_type": "markdown",
   "metadata": {},
   "source": [
    "### reduce()\n",
    "\n",
    "##### syntax: reduce(function, sequence)\n",
    "\n",
    "- reduces the sequence of elements into a single element by copying the specified function \n",
    "- present in functools module so need to import that module to use the reduce function"
   ]
  },
  {
   "cell_type": "code",
   "execution_count": 16,
   "metadata": {},
   "outputs": [
    {
     "name": "stdout",
     "output_type": "stream",
     "text": [
      "15\n"
     ]
    }
   ],
   "source": [
    "import functools\n",
    "\n",
    "l=[1,2,3,4,5]\n",
    "l1=functools.reduce(lambda a,b:a+b,l)\n",
    "print(l1)"
   ]
  },
  {
   "cell_type": "code",
   "execution_count": 17,
   "metadata": {},
   "outputs": [
    {
     "name": "stdout",
     "output_type": "stream",
     "text": [
      "15\n"
     ]
    }
   ],
   "source": [
    "from functools import *\n",
    "\n",
    "l=[1,2,3,4,5]\n",
    "l1=reduce(lambda a,b:a+b,l)\n",
    "print(l1)"
   ]
  },
  {
   "cell_type": "markdown",
   "metadata": {},
   "source": [
    "### filter()\n",
    "\n",
    "- filter values from given sequence based on some condition\n",
    "- function argument is responsible to check condition "
   ]
  },
  {
   "cell_type": "code",
   "execution_count": 19,
   "metadata": {},
   "outputs": [
    {
     "name": "stdout",
     "output_type": "stream",
     "text": [
      "[0, 2, 4, 6, 8, 10]\n"
     ]
    }
   ],
   "source": [
    "def isEven(x):\n",
    "    if x%2==0:\n",
    "        return True\n",
    "    else:\n",
    "        return False\n",
    "l=[0,1,2,3,4,5,6,7,8,9,10]\n",
    "l1=list(filter(isEven,l))\n",
    "print(l1)"
   ]
  },
  {
   "cell_type": "code",
   "execution_count": 20,
   "metadata": {},
   "outputs": [
    {
     "name": "stdout",
     "output_type": "stream",
     "text": [
      "[0, 2, 4, 6, 8, 10]\n"
     ]
    }
   ],
   "source": [
    "l1=list(filter(lambda x:x%2==0,l))\n",
    "print(l1)"
   ]
  },
  {
   "cell_type": "markdown",
   "metadata": {},
   "source": [
    "##### note: unequal length is valid ; preference given to the one with smaller length"
   ]
  },
  {
   "cell_type": "code",
   "execution_count": 25,
   "metadata": {},
   "outputs": [
    {
     "name": "stdout",
     "output_type": "stream",
     "text": [
      "[101, 42]\n"
     ]
    }
   ],
   "source": [
    "l1=[1,2,3,4]\n",
    "l2=[100,40]\n",
    "l3=list(map(lambda x,y: x+y,l1,l2))\n",
    "print(l3)"
   ]
  },
  {
   "cell_type": "code",
   "execution_count": 27,
   "metadata": {},
   "outputs": [
    {
     "name": "stdout",
     "output_type": "stream",
     "text": [
      "['APPLE', 'BANANA', 'CHERRY']\n",
      "<function <lambda> at 0x0000026DD1FB7670>\n",
      "HI\n"
     ]
    }
   ],
   "source": [
    "words=[\"apple\",\"banana\",\"cherry\"]\n",
    "l=list(map(str.upper,words))\n",
    "print(l)\n",
    "\n",
    "# or\n",
    "\n",
    "print(lambda x: x.upper(\"hi\"))\n",
    "s=lambda x: x.upper()\n",
    "print(s(\"hi\"))"
   ]
  },
  {
   "cell_type": "code",
   "execution_count": 28,
   "metadata": {},
   "outputs": [
    {
     "name": "stdout",
     "output_type": "stream",
     "text": [
      "['banana', 'cherry', 'orange']\n"
     ]
    }
   ],
   "source": [
    "# wap to store the elements in different list if length is more than 5\n",
    "\n",
    "l=[\"apple\",\"banana\",\"cherry\",\"date\",\"kiwi\",\"orange\"]\n",
    "l1=list(filter(lambda x: len(x)>5,l))\n",
    "print(l1)"
   ]
  },
  {
   "cell_type": "code",
   "execution_count": 30,
   "metadata": {},
   "outputs": [
    {
     "name": "stdout",
     "output_type": "stream",
     "text": [
      "9996\n"
     ]
    }
   ],
   "source": [
    "min=lambda x,y:x if x<y else y\n",
    "print(min(101*99,102*98))"
   ]
  },
  {
   "cell_type": "code",
   "execution_count": 35,
   "metadata": {},
   "outputs": [
    {
     "name": "stdout",
     "output_type": "stream",
     "text": [
      "[13, 19]\n"
     ]
    }
   ],
   "source": [
    "# wap to find numbers divisilble by 19 or 13 from the list of numbers using lambda function\n",
    "\n",
    "l=[1,2,3,13,19]\n",
    "ans=list(filter(lambda x:x%13==0 or x%19==0,l))\n",
    "print(ans)"
   ]
  },
  {
   "cell_type": "markdown",
   "metadata": {},
   "source": [
    "### key parameter"
   ]
  },
  {
   "cell_type": "code",
   "execution_count": 39,
   "metadata": {},
   "outputs": [
    {
     "name": "stdout",
     "output_type": "stream",
     "text": [
      "['date', 'apple', 'Banana', 'banana']\n"
     ]
    }
   ],
   "source": [
    "l=[\"apple\",\"Banana\",\"banana\",\"date\"]\n",
    "l1=sorted(l,key=len)\n",
    "print(l1)"
   ]
  },
  {
   "cell_type": "code",
   "execution_count": 40,
   "metadata": {},
   "outputs": [
    {
     "name": "stdout",
     "output_type": "stream",
     "text": [
      "['date', 'apple', 'banana', 'Banana']\n"
     ]
    }
   ],
   "source": [
    "l=[\"apple\",\"banana\",\"Banana\",\"date\"]\n",
    "l1=sorted(l,key=len)\n",
    "print(l1)"
   ]
  },
  {
   "cell_type": "code",
   "execution_count": 69,
   "metadata": {},
   "outputs": [
    {
     "name": "stdout",
     "output_type": "stream",
     "text": [
      "['pinapple', 'kiwi', 'cherry', 'apple']\n"
     ]
    }
   ],
   "source": [
    "l=[\"pinapple\",\"kiwi\",\"cherry\",\"apple\"]\n",
    "def fun(word):\n",
    "    return words[-1]\n",
    "\n",
    "l1=sorted(l,key=fun)\n",
    "print(l)"
   ]
  },
  {
   "cell_type": "code",
   "execution_count": 58,
   "metadata": {},
   "outputs": [
    {
     "name": "stdout",
     "output_type": "stream",
     "text": [
      "['pinapple', 'kiwi', 'cherry', 'apple']\n"
     ]
    }
   ],
   "source": [
    "l1=sorted(l,key=lambda word:words[-1])\n",
    "print(l1)"
   ]
  },
  {
   "cell_type": "code",
   "execution_count": 53,
   "metadata": {},
   "outputs": [
    {
     "name": "stdout",
     "output_type": "stream",
     "text": [
      "['apple', 'kiwi', 'cherry', 'pinapple']\n"
     ]
    }
   ],
   "source": [
    "l=[\"apple\",\"kiwi\",\"cherry\",\"pinapple\"]\n",
    "def fun(word):\n",
    "    return words[-1]\n",
    "\n",
    "l1=sorted(l,key=fun)\n",
    "print(l)"
   ]
  },
  {
   "cell_type": "code",
   "execution_count": 64,
   "metadata": {},
   "outputs": [
    {
     "name": "stdout",
     "output_type": "stream",
     "text": [
      "[(4, 1), (2, 3), (1, 5), (3, 8)]\n"
     ]
    }
   ],
   "source": [
    "# wap to sort as per 2nd element\n",
    "\n",
    "l=[(1,5),(2,3),(3,8),(4,1)]\n",
    "l1=sorted(l,key=lambda x:x[1])\n",
    "print(l1)"
   ]
  },
  {
   "cell_type": "code",
   "execution_count": 66,
   "metadata": {},
   "outputs": [
    {
     "name": "stdout",
     "output_type": "stream",
     "text": [
      "[(4, 1), (2, 3), (1, 5), (3, 8)]\n"
     ]
    }
   ],
   "source": [
    "a=[(1,5),(2,3),(3,8),(4,1)]\n",
    "def func(val):\n",
    "    return val[1]\n",
    "a.sort(key=func)\n",
    "print(a)"
   ]
  },
  {
   "cell_type": "code",
   "execution_count": 68,
   "metadata": {},
   "outputs": [
    {
     "name": "stdout",
     "output_type": "stream",
     "text": [
      "['apple ', 'cherry#banana#orange']\n",
      "['apple ', 'cherry', 'banana#orange']\n",
      "['apple ', 'cherry', 'banana', 'orange']\n"
     ]
    }
   ],
   "source": [
    "t=\"apple #cherry#banana#orange\"\n",
    "x=t.split(\"#\",1)\n",
    "print(x)\n",
    "y=t.split(\"#\",2)\n",
    "print(y)\n",
    "z=t.split(\"#\",3)\n",
    "print(z)\n",
    "\n",
    "# length of new list = maxsplit parameter +1 "
   ]
  },
  {
   "cell_type": "code",
   "execution_count": 6,
   "metadata": {},
   "outputs": [
    {
     "name": "stdout",
     "output_type": "stream",
     "text": [
      "enter list: [5,5,2,5,8]\n",
      "original list:  [5, 5, 2, 5, 8]\n",
      "index to be removed:  0\n",
      "list after removal of index  0 is:  [5, 2, 5, 8]\n",
      "total count of special element is:  1\n",
      "index to be removed:  1\n",
      "list after removal of index  1 is:  [5, 2, 5, 8]\n",
      "total count of special element is:  2\n"
     ]
    }
   ],
   "source": [
    "# given a list l of size n, you need to count the number of special elements in the given list and element is special if \n",
    "# removal of that element makes the list balanced, the list will be balanced if the sum of even indexed elements is equal \n",
    "# to sum of odd index element, also print the updated list after removal of special element\n",
    "\n",
    "l=eval(input(\"enter list: \"))\n",
    "print(\"original list: \",l)\n",
    "count=0\n",
    "list(l)\n",
    "for i in range(len(l)):\n",
    "    c=l.copy()\n",
    "    c.pop(i)\n",
    "    sum1=sum(c[::2])\n",
    "    sum2=sum(c[1::2])\n",
    "    if sum1==sum2:\n",
    "        print(\"index to be removed: \",i)\n",
    "        count+=1\n",
    "        print(\"list after removal of index \",i,\"is: \",l[:i]+l[i+1:])\n",
    "        print(\"total count of special element is: \",count)\n",
    "        "
   ]
  },
  {
   "cell_type": "code",
   "execution_count": 1,
   "metadata": {},
   "outputs": [
    {
     "name": "stdout",
     "output_type": "stream",
     "text": [
      "15\n"
     ]
    }
   ],
   "source": [
    "l=[1,2,3,4,5]\n",
    "print(sum(l))"
   ]
  },
  {
   "cell_type": "code",
   "execution_count": 8,
   "metadata": {},
   "outputs": [
    {
     "name": "stdout",
     "output_type": "stream",
     "text": [
      "index to be removed:  0\n",
      "list after removal of index  0 is:  [5, 2, 5, 8]\n",
      "total count of special element is:  1\n",
      "index to be removed:  1\n",
      "list after removal of index  1 is:  [5, 2, 5, 8]\n",
      "total count of special element is:  2\n"
     ]
    }
   ],
   "source": [
    "from functools import *\n",
    "l=[5,5,2,5,8]\n",
    "\n",
    "def calc(c):\n",
    "    c=l.copy()\n",
    "    oddindex=[]\n",
    "    evenindex=[]\n",
    "\n",
    "    for i in range(0,len(c)):\n",
    "        if i%2==0:\n",
    "            evenindex.append(c[i])\n",
    "        else:\n",
    "            oddindex.append(c[i])\n",
    "\n",
    "    l1=reduce(lambda a,b:a+b,oddindex)\n",
    "    l2=reduce(lambda a,b:a+b,evenindex)\n",
    "    \n",
    "    if l1==l2:\n",
    "        return True\n",
    "    else:\n",
    "        return False\n",
    "\n",
    "if calc(l):\n",
    "    print(\"already balanced\")\n",
    "    \n",
    "else:\n",
    "    count=0\n",
    "    for i in range(len(l)):\n",
    "        c=l.copy()\n",
    "        c.pop(i)\n",
    "        sum1=sum(c[::2])\n",
    "        sum2=sum(c[1::2])\n",
    "        if sum1==sum2:\n",
    "            print(\"index to be removed: \",i)\n",
    "            count+=1\n",
    "            print(\"list after removal of index \",i,\"is: \",l[:i]+l[i+1:])\n",
    "            print(\"total count of special element is: \",count)"
   ]
  },
  {
   "cell_type": "code",
   "execution_count": 85,
   "metadata": {},
   "outputs": [
    {
     "name": "stdout",
     "output_type": "stream",
     "text": [
      "(1, 2, 3, True, False)\n",
      "12\n"
     ]
    }
   ],
   "source": [
    "# mcq:\n",
    "\n",
    "def f1(*m):\n",
    "    print(m)\n",
    "    sum1=len(m)\n",
    "    for i in m:\n",
    "        sum1+=i\n",
    "    return sum1\n",
    "\n",
    "x=f1(1,2,3,(4,)==(4,),(5,)==(5))\n",
    "print(x)"
   ]
  },
  {
   "cell_type": "code",
   "execution_count": null,
   "metadata": {},
   "outputs": [],
   "source": []
  }
 ],
 "metadata": {
  "kernelspec": {
   "display_name": "Python 3",
   "language": "python",
   "name": "python3"
  },
  "language_info": {
   "codemirror_mode": {
    "name": "ipython",
    "version": 3
   },
   "file_extension": ".py",
   "mimetype": "text/x-python",
   "name": "python",
   "nbconvert_exporter": "python",
   "pygments_lexer": "ipython3",
   "version": "3.8.5"
  }
 },
 "nbformat": 4,
 "nbformat_minor": 4
}
