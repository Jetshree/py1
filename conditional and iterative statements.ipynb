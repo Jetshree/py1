{
 "cells": [
  {
   "cell_type": "markdown",
   "metadata": {},
   "source": [
    "# Conditional if statement\n"
   ]
  },
  {
   "cell_type": "code",
   "execution_count": 3,
   "metadata": {},
   "outputs": [
    {
     "name": "stdout",
     "output_type": "stream",
     "text": [
      "enter name: arman\n",
      "hi arman\n",
      "how are you?\n"
     ]
    }
   ],
   "source": [
    "# if condition :\n",
    "#     statement\n",
    "\n",
    "name= input(\"enter name: \")\n",
    "if(name==\"arman\") : # valid without brackets too\n",
    "    print(\"hi arman\")\n",
    "print(\"how are you?\") "
   ]
  },
  {
   "cell_type": "code",
   "execution_count": 5,
   "metadata": {},
   "outputs": [
    {
     "name": "stdout",
     "output_type": "stream",
     "text": [
      "enter name: jetshree\n",
      "hi  jetshree\n",
      "how are you?\n"
     ]
    }
   ],
   "source": [
    "# if else statement\n",
    "\n",
    "name= input(\"enter name: \")\n",
    "if(name==\"arman\") : # valid without brackets too\n",
    "    print(\"hi arman\")\n",
    "else:\n",
    "    print(\"hi \",name)\n",
    "print(\"how are you?\") "
   ]
  },
  {
   "cell_type": "code",
   "execution_count": 7,
   "metadata": {},
   "outputs": [
    {
     "name": "stdout",
     "output_type": "stream",
     "text": [
      "enter name: me\n",
      "hello guest\n",
      "how are you?\n"
     ]
    }
   ],
   "source": [
    "# if-elif-else\n",
    "name= input(\"enter name: \")\n",
    "if(name==\"arman\") : # valid without brackets too\n",
    "    print(\"hi arman\")\n",
    "elif(name==\"jetshree\"):\n",
    "    print(\"hi \",name)\n",
    "else:\n",
    "    print(\"hello guest\")\n",
    "    \n",
    "print(\"how are you?\") "
   ]
  },
  {
   "cell_type": "code",
   "execution_count": 12,
   "metadata": {},
   "outputs": [
    {
     "name": "stdout",
     "output_type": "stream",
     "text": [
      "num1: 34\n",
      "num2: 76\n",
      "num3: 32\n",
      "76  is greatest\n"
     ]
    }
   ],
   "source": [
    "# find the greatest number from three given numbers\n",
    "\n",
    "n1=int(input(\"num1: \"))\n",
    "n2=int(input(\"num2: \"))\n",
    "n3=int(input(\"num3: \"))\n",
    "\n",
    "if n1>n2 and n1>n3:\n",
    "    print(n1,\" is greatest\")\n",
    "elif n2>n1 and n2>n3:\n",
    "    print(n2,\" is greatest\")\n",
    "else:\n",
    "    print(n3,\" is greatest\")"
   ]
  },
  {
   "cell_type": "markdown",
   "metadata": {},
   "source": [
    "# Iterative statements (for, while)\n"
   ]
  },
  {
   "cell_type": "code",
   "execution_count": 17,
   "metadata": {},
   "outputs": [
    {
     "name": "stdout",
     "output_type": "stream",
     "text": [
      "j e t s h r e e j\n",
      "e\n",
      "t\n",
      "s\n",
      "h\n",
      "r\n",
      "e\n",
      "e\n"
     ]
    }
   ],
   "source": [
    "# for loop:\n",
    "\n",
    "# syntax: \n",
    "#     for x in sequence:\n",
    "#         body\n",
    "\n",
    "s=\"jetshree\"\n",
    "for i in s:\n",
    "    print(i,end=\" \") \n",
    "    \n",
    "for i in s:\n",
    "    print(i)"
   ]
  },
  {
   "cell_type": "code",
   "execution_count": 18,
   "metadata": {},
   "outputs": [
    {
     "name": "stdout",
     "output_type": "stream",
     "text": [
      "0 1 2 3 4 "
     ]
    }
   ],
   "source": [
    "for i in range(5):\n",
    "    print(i,end=\" \")"
   ]
  },
  {
   "cell_type": "code",
   "execution_count": 22,
   "metadata": {},
   "outputs": [
    {
     "name": "stdout",
     "output_type": "stream",
     "text": [
      "0 2 4 6 8 "
     ]
    }
   ],
   "source": [
    "for i in range(0,10,2):  #(start,end,inc/dec)\n",
    "    print(i,end= \" \")"
   ]
  },
  {
   "cell_type": "markdown",
   "metadata": {},
   "source": [
    "### no output case\n",
    "for i in range(0,10,-1):\n",
    "    print(i)"
   ]
  },
  {
   "cell_type": "code",
   "execution_count": 24,
   "metadata": {},
   "outputs": [],
   "source": [
    "for i in range(0,10,-1):\n",
    "    print(i)"
   ]
  },
  {
   "cell_type": "code",
   "execution_count": 25,
   "metadata": {},
   "outputs": [
    {
     "name": "stdout",
     "output_type": "stream",
     "text": [
      "Hello\n",
      "Hello\n",
      "Hello\n",
      "Hello\n",
      "Hello\n"
     ]
    }
   ],
   "source": [
    "for i in range(5):\n",
    "    print(\"Hello\")"
   ]
  },
  {
   "cell_type": "markdown",
   "metadata": {},
   "source": [
    "### while loop"
   ]
  },
  {
   "cell_type": "code",
   "execution_count": 27,
   "metadata": {},
   "outputs": [
    {
     "name": "stdout",
     "output_type": "stream",
     "text": [
      "hello * hello * hello * hello * "
     ]
    }
   ],
   "source": [
    "i=1\n",
    "while i<5:\n",
    "    i+=1;\n",
    "    print(\"hello\",end=\" * \")"
   ]
  },
  {
   "cell_type": "code",
   "execution_count": 36,
   "metadata": {},
   "outputs": [
    {
     "name": "stdout",
     "output_type": "stream",
     "text": [
      "enter name: a\n",
      "enter name: b\n",
      "enter name: c\n",
      "enter name: quit\n"
     ]
    }
   ],
   "source": [
    "# take user input until user enters \"quit\"\n",
    "\n",
    "name=\"\"\n",
    "while name!=\"quit\":\n",
    "    name=input(\"enter name: \")"
   ]
  },
  {
   "cell_type": "markdown",
   "metadata": {},
   "source": [
    "### nested loop"
   ]
  },
  {
   "cell_type": "code",
   "execution_count": 37,
   "metadata": {},
   "outputs": [
    {
     "name": "stdout",
     "output_type": "stream",
     "text": [
      "i= 0  j= 0\n",
      "i= 0  j= 1\n",
      "i= 1  j= 0\n",
      "i= 1  j= 1\n"
     ]
    }
   ],
   "source": [
    "for i in range(2):\n",
    "    for j in range(2):\n",
    "        print(\"i=\",i,\" j=\",j)"
   ]
  },
  {
   "cell_type": "markdown",
   "metadata": {},
   "source": [
    "### break statement"
   ]
  },
  {
   "cell_type": "code",
   "execution_count": 40,
   "metadata": {},
   "outputs": [
    {
     "name": "stdout",
     "output_type": "stream",
     "text": [
      "0\n",
      "1\n",
      "2\n",
      "3\n",
      "stop here!\n"
     ]
    }
   ],
   "source": [
    "for i in range(10):\n",
    "    if i==4:\n",
    "        print(\"stop here!\")\n",
    "        break\n",
    "    print(i)"
   ]
  },
  {
   "cell_type": "markdown",
   "metadata": {},
   "source": [
    "### continue statement\n"
   ]
  },
  {
   "cell_type": "code",
   "execution_count": 42,
   "metadata": {},
   "outputs": [
    {
     "name": "stdout",
     "output_type": "stream",
     "text": [
      "1\n",
      "3\n",
      "5\n",
      "7\n",
      "9\n"
     ]
    }
   ],
   "source": [
    "# odd numbers\n",
    "\n",
    "for i in range(10):\n",
    "    if i%2==0:\n",
    "        continue\n",
    "    print(i)"
   ]
  },
  {
   "cell_type": "markdown",
   "metadata": {},
   "source": [
    "### pass statement"
   ]
  },
  {
   "cell_type": "code",
   "execution_count": 44,
   "metadata": {},
   "outputs": [],
   "source": [
    "# no output\n",
    "\n",
    "if True:\n",
    "    pass \n",
    "def test():\n",
    "    pass"
   ]
  },
  {
   "cell_type": "code",
   "execution_count": 46,
   "metadata": {},
   "outputs": [
    {
     "name": "stdout",
     "output_type": "stream",
     "text": [
      "0\n",
      "9\n",
      "18\n"
     ]
    }
   ],
   "source": [
    "for i in range(20):\n",
    "    if i%9==0:\n",
    "        print(i)\n",
    "    else:\n",
    "        pass\n",
    "\n",
    "for i in range(10):\n",
    "    pass"
   ]
  },
  {
   "cell_type": "code",
   "execution_count": 51,
   "metadata": {},
   "outputs": [
    {
     "name": "stdout",
     "output_type": "stream",
     "text": [
      "enter an alphabet: ai\n",
      "consonent\n"
     ]
    }
   ],
   "source": [
    "# wap to check if the given character is vowel or consonent\n",
    "\n",
    "ch=input(\"enter an alphabet: \")\n",
    "if ch in 'aeiouAEIOU':\n",
    "    print(\"vowel\")\n",
    "else:\n",
    "    print(\"consonent\")"
   ]
  },
  {
   "cell_type": "code",
   "execution_count": null,
   "metadata": {},
   "outputs": [],
   "source": []
  }
 ],
 "metadata": {
  "kernelspec": {
   "display_name": "Python 3",
   "language": "python",
   "name": "python3"
  },
  "language_info": {
   "codemirror_mode": {
    "name": "ipython",
    "version": 3
   },
   "file_extension": ".py",
   "mimetype": "text/x-python",
   "name": "python",
   "nbconvert_exporter": "python",
   "pygments_lexer": "ipython3",
   "version": "3.8.5"
  }
 },
 "nbformat": 4,
 "nbformat_minor": 4
}
