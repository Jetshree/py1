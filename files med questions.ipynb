{
 "cells": [
  {
   "cell_type": "code",
   "execution_count": 58,
   "metadata": {},
   "outputs": [
    {
     "name": "stdout",
     "output_type": "stream",
     "text": [
      "line:  1\n",
      "pos:  9\n",
      "line:  2\n",
      "pos:  9\n"
     ]
    }
   ],
   "source": [
    "# wap to compare two files and find the difference in line and character\n",
    "\n",
    "f1=open(\"file1.txt\",\"r\")\n",
    "f2=open(\"file2.txt\",\"r\")\n",
    "l1=f1.readlines()\n",
    "l2=f2.readlines()\n",
    "\n",
    "x1=min(len(l1),len(l2))\n",
    "\n",
    "for i in range(0,x1):\n",
    "    a=l1[i]\n",
    "    b=l2[i]\n",
    "    temp=0\n",
    "    if a==b:\n",
    "        continue\n",
    "    else:\n",
    "        temp=1\n",
    "        if len(a)>len(b):\n",
    "            temp=len(b)\n",
    "        else:\n",
    "            temp=len(a)\n",
    "            for j in range(0,temp):\n",
    "                if a[j]!=b[j]:\n",
    "                    print(\"line: \",i+1)\n",
    "                    print(\"pos: \",j+1)\n",
    "f1.close()\n",
    "f2.close()\n",
    "\n",
    "# file1.txt:\n",
    "\n",
    "# This is Python\n",
    "# This is Java\n",
    "\n",
    "# file2.txt:\n",
    "\n",
    "# This is python\n",
    "# This is java"
   ]
  },
  {
   "cell_type": "code",
   "execution_count": 21,
   "metadata": {},
   "outputs": [
    {
     "name": "stdout",
     "output_type": "stream",
     "text": [
      "words:  6\n",
      "characters:  22\n",
      "spaces:  4\n"
     ]
    }
   ],
   "source": [
    "# wap to count words, characters and spaces from text file\n",
    "\n",
    "f=open(\"file1.txt\")\n",
    "b=f.read()\n",
    "x=b.split()\n",
    "\n",
    "print(\"words: \",len(x))\n",
    "\n",
    "y=len(b)-b.count(\" \")-b.count(\"\\n\")\n",
    "print(\"characters: \",y)\n",
    "\n",
    "print(\"spaces: \",b.count(\" \"))\n",
    "\n",
    "# file1.txt:\n",
    "\n",
    "# This is Python\n",
    "# This is Java"
   ]
  },
  {
   "cell_type": "code",
   "execution_count": 27,
   "metadata": {},
   "outputs": [
    {
     "name": "stdout",
     "output_type": "stream",
     "text": [
      "enter word to be replaced: Friends\n",
      "replace with: Enemy\n"
     ]
    }
   ],
   "source": [
    "# wap to replace a word in file\n",
    "\n",
    "f1=open(\"friends.txt\",\"r\")\n",
    "f2=open(\"replacefrnd.txt\",\"w\")\n",
    "n1=input(\"enter word to be replaced: \")\n",
    "n2=input(\"replace with: \")\n",
    "l=f1.readlines()\n",
    "\n",
    "for i in l: \n",
    "    f2.write(i.replace(n1,n2))\n",
    "\n",
    "f1.close()\n",
    "f2.close()\n",
    "\n",
    "# friends.txt\n",
    "\n",
    "# Friends are crazy, friends are mad!\n",
    "# Friends are honest, friends are best\n",
    "\n",
    "# replacefrnds.txt\n",
    "\n",
    "# Enemy are crazy, friends are mad!\n",
    "# Enemy are honest, friends are best"
   ]
  },
  {
   "cell_type": "code",
   "execution_count": 56,
   "metadata": {},
   "outputs": [
    {
     "name": "stdout",
     "output_type": "stream",
     "text": [
      "No. of vowels in 3rd file:  12\n",
      "4NOHTYP SI SIHT\n",
      "\n"
     ]
    }
   ],
   "source": [
    "# wap to reverse the content of one file and store it in 2nd file and also convert the content of\n",
    "# 2nd file into uppercase and store it in third file, also count no. of vowels in third file and \n",
    "# also print 2nd line from the content of third file\n",
    "\n",
    "f1=open(\"demo.txt\",\"r\")\n",
    "f2=open(\"rev.txt\",\"w\")\n",
    "l1=f1.readlines()\n",
    "data=l1[::-1]\n",
    "for i in data:\n",
    "    f2.write(i[::-1])\n",
    "f2.close()\n",
    "f1.close()\n",
    "\n",
    "f2=open(\"rev.txt\",\"r\")\n",
    "f3=open(\"uppervowel.txt\",\"w\")\n",
    "l2=f2.readlines()\n",
    "for i in l2:\n",
    "    f3.write(i.upper())\n",
    "f3.close()\n",
    "f2.close()\n",
    "\n",
    "f3=open(\"uppervowel.txt\",\"r\")\n",
    "b=f3.read()\n",
    "x=b.split()\n",
    "vc=b.count(\"A\")+b.count(\"E\")+b.count(\"I\")+b.count(\"O\")+b.count(\"U\")\n",
    "print(\"No. of vowels in 3rd file: \",vc)\n",
    "f3.seek(0)\n",
    "l3=f3.readlines()\n",
    "print(l3[1]) \n",
    "f3.close()\n",
    "\n",
    "\n",
    "# demo.txt:\n",
    "\n",
    "# This is python1\n",
    "# This is python2\n",
    "# This is python3\n",
    "# This is python4\n",
    "\n",
    "# rev.txt:\n",
    "    \n",
    "\n",
    "# 4nohtyp si sihT\n",
    "# 3nohtyp si sihT\n",
    "# 2nohtyp si sihT\n",
    "# 1nohtyp si sihT\n",
    "\n",
    "# uppervowel.txt:\n",
    "    \n",
    "# here first line is space---> this sentence isn't file's content\n",
    "# 4NOHTYP SI SIHT\n",
    "# 3NOHTYP SI SIHT\n",
    "# 2NOHTYP SI SIHT\n",
    "# 1NOHTYP SI SIHT"
   ]
  },
  {
   "cell_type": "code",
   "execution_count": 43,
   "metadata": {},
   "outputs": [
    {
     "name": "stdout",
     "output_type": "stream",
     "text": [
      "enter string: Hello\n",
      "enter string: hello\n",
      "enter string: hi\n",
      "enter string: Hi\n",
      "enter string: eNd\n",
      "Hello\n",
      "\n",
      "Hi\n",
      "\n"
     ]
    }
   ],
   "source": [
    "# wap to accept str or sentence till the user enters end, each string or sentence entered by user \n",
    "# should be a new line in file, save all the lines in file and display only those lines which \n",
    "# begin with capital letter\n",
    "\n",
    "f1=open(\"userstr.txt\",\"w\")\n",
    "s=\"\"\n",
    "while s.lower()!=\"end\":\n",
    "    s=input(\"enter string: \")\n",
    "    if s.lower()!=\"end\":\n",
    "        f1.write(s+\"\\n\")\n",
    "f1.close()\n",
    "\n",
    "f1=open(\"userstr.txt\",\"r\")\n",
    "l1=f1.readlines()\n",
    "for i in l1:\n",
    "    if i[0].isupper():\n",
    "        print(i)\n",
    "f1.close()\n",
    "\n",
    "# userstr.txt:\n",
    "\n",
    "# Hello\n",
    "# hello\n",
    "# hi\n",
    "# Hi\n"
   ]
  },
  {
   "cell_type": "code",
   "execution_count": 42,
   "metadata": {},
   "outputs": [
    {
     "name": "stdout",
     "output_type": "stream",
     "text": [
      "False\n",
      "demo.txt\n",
      "r+\n",
      "True\n",
      "True\n"
     ]
    }
   ],
   "source": [
    "f=open(\"demo.txt\",\"r+\")\n",
    "print(f.closed)\n",
    "print(f.name)\n",
    "print(f.mode)\n",
    "print(f.readable())\n",
    "print(f.writable())"
   ]
  },
  {
   "cell_type": "code",
   "execution_count": 48,
   "metadata": {},
   "outputs": [
    {
     "name": "stdout",
     "output_type": "stream",
     "text": [
      "True\n",
      "False\n"
     ]
    }
   ],
   "source": [
    "import os\n",
    "print(os.path.isfile(\"demo.txt\"))\n",
    "print(os.path.isfile(\"abc.txt\"))"
   ]
  },
  {
   "cell_type": "code",
   "execution_count": 59,
   "metadata": {},
   "outputs": [
    {
     "name": "stdout",
     "output_type": "stream",
     "text": [
      "enter word to be searched:friends\n",
      "19 19 19 19 19 19 19 19 19 19 19 19 19 19 19 19 19 19 19 19 19 19 19 19 19 19 19 19 19 19 19 19 19 19 19 19 19 19 19 19 19 19 19 19 19 19 19 19 19 19 19 19 19 19 19 19 19 19 19 19 19 19 19 19 19 19 19 19 19 19 19 19 "
     ]
    }
   ],
   "source": [
    "# wap to search for a string entered by user in text file ----> pending\n",
    "\n",
    "f1=open(\"friends.txt\",\"r\")\n",
    "n1=input(\"enter word to be searched:\")\n",
    "\n",
    "b=f1.read()\n",
    "for i in b:\n",
    "    print(b.find(n1),end=\" \")"
   ]
  },
  {
   "cell_type": "code",
   "execution_count": null,
   "metadata": {},
   "outputs": [],
   "source": []
  }
 ],
 "metadata": {
  "kernelspec": {
   "display_name": "Python 3",
   "language": "python",
   "name": "python3"
  },
  "language_info": {
   "codemirror_mode": {
    "name": "ipython",
    "version": 3
   },
   "file_extension": ".py",
   "mimetype": "text/x-python",
   "name": "python",
   "nbconvert_exporter": "python",
   "pygments_lexer": "ipython3",
   "version": "3.8.5"
  }
 },
 "nbformat": 4,
 "nbformat_minor": 4
}
