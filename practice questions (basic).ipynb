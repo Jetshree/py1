{
 "cells": [
  {
   "cell_type": "code",
   "execution_count": 4,
   "metadata": {},
   "outputs": [
    {
     "name": "stdout",
     "output_type": "stream",
     "text": [
      "enter the year: 2020\n",
      "leap year\n"
     ]
    }
   ],
   "source": [
    "# check whether the year is leap year or not\n",
    "\n",
    "yr=int(input(\"enter the year: \"))\n",
    "\n",
    "if(yr%400==0 or(yr%4==0 and yr%100!=0)):\n",
    "    print(\"leap year\")\n",
    "else:\n",
    "    print(\"not a leap year\")"
   ]
  },
  {
   "cell_type": "code",
   "execution_count": 6,
   "metadata": {},
   "outputs": [
    {
     "name": "stdout",
     "output_type": "stream",
     "text": [
      "num1: 2\n",
      "num2: 3\n",
      "operator: **\n",
      "8\n"
     ]
    }
   ],
   "source": [
    "# wap to perform arithmetic operations according to the choices given\n",
    "\n",
    "a=int(input(\"num1: \"))\n",
    "b=int(input(\"num2: \"))\n",
    "ch=input(\"operator: \")\n",
    "\n",
    "if(ch==\"+\"):\n",
    "    print(a+b)\n",
    "elif(ch==\"-\"):\n",
    "    print(a-b)\n",
    "elif(ch==\"*\"):\n",
    "    print(a*b)\n",
    "elif(ch==\"/\"):\n",
    "    print(a/b)\n",
    "elif(ch==\"//\"):\n",
    "    print(a//b)\n",
    "elif(ch==\"%\"):\n",
    "    print(a%b)\n",
    "elif(ch==\"**\"):\n",
    "    print(a**b)\n",
    "    "
   ]
  },
  {
   "cell_type": "code",
   "execution_count": 14,
   "metadata": {},
   "outputs": [
    {
     "name": "stdout",
     "output_type": "stream",
     "text": [
      "ps: 54\n",
      "de: 98\n",
      "py: 65\n",
      "fsd: 76\n",
      "percentage:  73.25\n",
      "first class\n"
     ]
    }
   ],
   "source": [
    "# grades\n",
    "\n",
    "ps=float(input(\"ps: \"))\n",
    "de=float(input(\"de: \"))\n",
    "py=float(input(\"py: \"))\n",
    "fsd=float(input(\"fsd: \"))\n",
    "\n",
    "a=(ps+de+py+fsd)/4\n",
    "\n",
    "print(\"percentage: \",a)\n",
    "\n",
    "if(a>=80 and a<=100):\n",
    "    print(\"distinction\")\n",
    "elif(a>=60 and a<=79):\n",
    "    print(\"first class\")\n",
    "elif(a>=35 and a<=59):\n",
    "    print(\"second class\")\n",
    "else:\n",
    "    print(\"fail\")"
   ]
  },
  {
   "cell_type": "code",
   "execution_count": 22,
   "metadata": {},
   "outputs": [
    {
     "name": "stdout",
     "output_type": "stream",
     "text": [
      "enter units: 3000\n",
      "bill:  28500 rs.\n"
     ]
    }
   ],
   "source": [
    "# wap to calculate electricity bill based on the number of units entered by user\n",
    "# first 100 units - no charge\n",
    "# next 100 units - rs. 5 per unit\n",
    "# after 200 units - rs. 10 per unit\n",
    "\n",
    "u=int(input(\"enter units: \"))\n",
    "bill=0\n",
    "\n",
    "if(u<=100):\n",
    "    print(\"no charge\")\n",
    "elif(u>100 and u<=200):\n",
    "    bill=(u-100)*5\n",
    "    print(\"bill: \",bill,\"rs.\")\n",
    "else:\n",
    "    bill=500+(u-200)*10\n",
    "    print(\"bill: \",bill,\"rs.\")"
   ]
  },
  {
   "cell_type": "code",
   "execution_count": 23,
   "metadata": {},
   "outputs": [
    {
     "name": "stdout",
     "output_type": "stream",
     "text": [
      "enter a number: 1239\n",
      "1239  is divisible by 3\n"
     ]
    }
   ],
   "source": [
    "# wap to check whether the last digit of number entered by user is divisible by 3 or not \n",
    "\n",
    "n=int(input(\"enter a number: \"))\n",
    "temp=n\n",
    "temp=n%10\n",
    "\n",
    "if(temp%3==0):\n",
    "    print(n,\" is divisible by 3\")\n",
    "    "
   ]
  },
  {
   "cell_type": "code",
   "execution_count": 31,
   "metadata": {},
   "outputs": [
    {
     "name": "stdout",
     "output_type": "stream",
     "text": [
      "enter a number: 897\n",
      "897  is a 3-digit number and the middle digit is  9\n"
     ]
    }
   ],
   "source": [
    "# wap to check whether a number entered by user is a 3-digit number\n",
    "# if the number is 3-digit then display the middle digit of that number\n",
    "\n",
    "n=int(input(\"enter a number: \"))\n",
    "\n",
    "temp=n\n",
    "r=0\n",
    "ctr=0\n",
    "while(temp!=0):\n",
    "    r=temp%10\n",
    "    temp=temp//10\n",
    "    ctr+=1\n",
    "    if(ctr==2):\n",
    "        mid=r\n",
    "\n",
    "if(ctr==3):\n",
    "    print(n,\" is a 3-digit number and the middle digit is \",mid)\n",
    "else:\n",
    "    print(n,\" is not a 3-digit number\")\n",
    "    "
   ]
  },
  {
   "cell_type": "code",
   "execution_count": 34,
   "metadata": {},
   "outputs": [
    {
     "name": "stdout",
     "output_type": "stream",
     "text": [
      "enter a number: 767\n",
      "3 - digit number\n",
      "mid digit:  6\n"
     ]
    }
   ],
   "source": [
    "# alter\n",
    "\n",
    "n=int(input(\"enter a number: \"))\n",
    "ct=0\n",
    "for i in str(n):\n",
    "    ct+=1\n",
    "print(ct,\"- digit number\")\n",
    "\n",
    "if ct!=3:\n",
    "    print(\"please enter a 3-digit number\")\n",
    "else:\n",
    "    print(\"mid digit: \",(n%100)//10)"
   ]
  },
  {
   "cell_type": "code",
   "execution_count": null,
   "metadata": {},
   "outputs": [],
   "source": [
    "# wap to accept a cost price of a bike a display the road tax to be paid and also display the total cost of the bike.\n",
    "# >100000 -> 15% tax\n",
    "# >50000 and <=100000 -> 10% tax\n",
    "# <=50000 -> 5% tax\n",
    "\n",
    "a=float(input(\"enter cost price of the bike: \"))\n",
    "temp=a\n",
    "tax=0\n",
    "\n",
    "if(a>100000):\n",
    "    tax=temp*0.15\n",
    "    print(\"total cost: \",a+tax)\n",
    "elif(a>50000 and a<=100000):\n",
    "    tax=temp*0.10\n",
    "    print(\"total cost: \",a+tax)\n",
    "else:\n",
    "    tax=temp*0.05\n",
    "    print(\"total cost: \",a+tax)\n"
   ]
  },
  {
   "cell_type": "code",
   "execution_count": 2,
   "metadata": {},
   "outputs": [
    {
     "name": "stdout",
     "output_type": "stream",
     "text": [
      "total days: 20\n",
      "absent: 1\n",
      "attendance:  95.0\n",
      "eligible for exam\n"
     ]
    }
   ],
   "source": [
    "# Accept the following from the user and calculate the percentage of class attended\n",
    "#      1. Total no. of working days\n",
    "#      2. Total no. of days for absent\n",
    "# If the percentage is less than 75 then display that not eligible for exam, else display eligible for exam\n",
    "\n",
    "td=float(input(\"total days: \"))\n",
    "ad=float(input(\"absent: \"))\n",
    "a=(td-ad)*100/td\n",
    "\n",
    "print(\"attendance: \",a)\n",
    "\n",
    "if(a<75):\n",
    "    print(\"not eligible for exam\")\n",
    "else:\n",
    "    print(\"eligible for exam\")"
   ]
  },
  {
   "cell_type": "code",
   "execution_count": 5,
   "metadata": {},
   "outputs": [
    {
     "name": "stdout",
     "output_type": "stream",
     "text": [
      "side 1: 3\n",
      "side 2: 4\n",
      "side 3: 5\n",
      "scalene class\n"
     ]
    }
   ],
   "source": [
    "# accept the 3 sides of a triangle and tell the type of triangle\n",
    "# equilateral-all sides equal \n",
    "# scalene-all sides different \n",
    "# isosceles-2 sides same\n",
    "\n",
    "s1=float(input(\"side 1: \"))\n",
    "s2=float(input(\"side 2: \"))\n",
    "s3=float(input(\"side 3: \"))\n",
    "\n",
    "if(s1==s2==s3):\n",
    "    print(\"equilateral triangle\")\n",
    "elif(s1!=s2!=s3):\n",
    "    print(\"scalene class\")\n",
    "else:\n",
    "    print(\"isosceles triangle\")"
   ]
  },
  {
   "cell_type": "code",
   "execution_count": 6,
   "metadata": {},
   "outputs": [
    {
     "name": "stdout",
     "output_type": "stream",
     "text": [
      "enter the age: 20\n",
      "enter gender M or F: M\n",
      "enter working days: 10\n",
      "7000\n"
     ]
    }
   ],
   "source": [
    "# accept the age, gender and number of days and display the wages accordingly \n",
    "# age            |        gender        |       wage/day\n",
    "# -----------------------------------------------------------\n",
    "# >=18 and <30   |           M          |         700\n",
    "#                |           F          |         750\n",
    "# ------------------------------------------------------------\n",
    "# >=30 and <=40  |           M          |         800\n",
    "#                |           F          |         850\n",
    "\n",
    "a=int(input(\"enter the age: \"))\n",
    "g=input(\"enter gender M or F: \")\n",
    "days=int(input(\"enter working days: \"))\n",
    "\n",
    "if(a>=18 and a<30):\n",
    "    if(g==\"M\"):\n",
    "        print(days*700)\n",
    "    if(g==\"F\"):\n",
    "        print(days*750)\n",
    "elif(a>=30 and a<=40):\n",
    "    if(g==\"M\"):\n",
    "        print(days*800)\n",
    "    if(g==\"F\"):\n",
    "        print(days*850)\n",
    "else:\n",
    "    print(\"enter valid input\")"
   ]
  },
  {
   "cell_type": "code",
   "execution_count": null,
   "metadata": {},
   "outputs": [],
   "source": []
  }
 ],
 "metadata": {
  "kernelspec": {
   "display_name": "Python 3",
   "language": "python",
   "name": "python3"
  },
  "language_info": {
   "codemirror_mode": {
    "name": "ipython",
    "version": 3
   },
   "file_extension": ".py",
   "mimetype": "text/x-python",
   "name": "python",
   "nbconvert_exporter": "python",
   "pygments_lexer": "ipython3",
   "version": "3.8.5"
  }
 },
 "nbformat": 4,
 "nbformat_minor": 4
}
