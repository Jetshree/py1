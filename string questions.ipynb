{
 "cells": [
  {
   "cell_type": "code",
   "execution_count": 34,
   "metadata": {},
   "outputs": [
    {
     "name": "stdout",
     "output_type": "stream",
     "text": [
      "string: absdfgab\n",
      "substring: ab\n",
      "0\n",
      "6\n",
      "Total occurance:  2\n"
     ]
    }
   ],
   "source": [
    "# wap to check all positions of substring in a given string\n",
    "\n",
    "s=input(\"string: \")\n",
    "sub=input(\"substring: \")\n",
    "temp=-1\n",
    "count=0\n",
    "\n",
    "for i in range(0,len(s)):\n",
    "    x=s.find(sub,i,len(s))\n",
    "    if x!=temp and x>=0:\n",
    "        print(x)\n",
    "        count+=1\n",
    "    temp=x\n",
    "print(\"Total occurance: \",count)"
   ]
  },
  {
   "cell_type": "code",
   "execution_count": 37,
   "metadata": {},
   "outputs": [
    {
     "name": "stdout",
     "output_type": "stream",
     "text": [
      "string: jetshree\n",
      "substring: e\n",
      "1\n",
      "6\n",
      "7\n",
      "Total occurance:  3\n"
     ]
    }
   ],
   "source": [
    "# wap to check all positions of substring in a given string\n",
    "# optimised code:\n",
    "\n",
    "s=input(\"string: \")\n",
    "sub=input(\"substring: \")\n",
    "temp=0\n",
    "count=0\n",
    "\n",
    "while True:\n",
    "    x=s.find(sub,temp,len(s)) # whole string checked here, if its not found then break loop there itself\n",
    "    if x==-1:  # find returns -1 index when not found\n",
    "        break\n",
    "    else:\n",
    "        print(x)\n",
    "        count+=1\n",
    "    temp=x+1\n",
    "print(\"Total occurance: \",count)"
   ]
  },
  {
   "cell_type": "code",
   "execution_count": 43,
   "metadata": {},
   "outputs": [
    {
     "name": "stdout",
     "output_type": "stream",
     "text": [
      "enter a string: A1B2CD34\n",
      "ABCD1234\n"
     ]
    }
   ],
   "source": [
    "# wap to sort the characters of the string and first alphabet symbols followed by numerical values\n",
    "\n",
    "s=input(\"enter a string: \")\n",
    "s1=s2=output=\"\"\n",
    "\n",
    "for i in s:\n",
    "    if i.isalpha():\n",
    "        s1=s1+i\n",
    "    if i.isdigit():\n",
    "        s2=s2+i\n",
    "for i in sorted(s1):\n",
    "    output+=i\n",
    "for i in sorted(s2):\n",
    "    output+=i\n",
    "print(output)"
   ]
  },
  {
   "cell_type": "code",
   "execution_count": 1,
   "metadata": {},
   "outputs": [
    {
     "name": "stdout",
     "output_type": "stream",
     "text": [
      "string: a4b3c2\n",
      "aaaabbbcc"
     ]
    }
   ],
   "source": [
    "# input: a4b3c2\n",
    "# output: aaaabbbcc\n",
    "\n",
    "s=input(\"string: \")\n",
    "\n",
    "for i in range(0,len(s),2):\n",
    "    a=s[i]\n",
    "    b=int(s[i+1])\n",
    "    print(a*b,end=\"\")"
   ]
  },
  {
   "cell_type": "code",
   "execution_count": 5,
   "metadata": {},
   "outputs": [
    {
     "name": "stdout",
     "output_type": "stream",
     "text": [
      "aba\n",
      "2112\n",
      "123451\n"
     ]
    }
   ],
   "source": [
    "# wap to count number of strings where the string length is 3 or more and the first and last \n",
    "# character are same from the given list of strings\n",
    "\n",
    "l=[\"abc\",\"xyz\",\"aba\",\"2112\",\"123451\",\"12345\"]\n",
    "\n",
    "for i in l:\n",
    "    if len(i)>=3:\n",
    "        if i[0]==i[-1]:\n",
    "            print(i)\n",
    "    else:\n",
    "        print(\"nothing to print\")"
   ]
  },
  {
   "cell_type": "code",
   "execution_count": null,
   "metadata": {},
   "outputs": [],
   "source": []
  }
 ],
 "metadata": {
  "kernelspec": {
   "display_name": "Python 3",
   "language": "python",
   "name": "python3"
  },
  "language_info": {
   "codemirror_mode": {
    "name": "ipython",
    "version": 3
   },
   "file_extension": ".py",
   "mimetype": "text/x-python",
   "name": "python",
   "nbconvert_exporter": "python",
   "pygments_lexer": "ipython3",
   "version": "3.8.5"
  }
 },
 "nbformat": 4,
 "nbformat_minor": 4
}
