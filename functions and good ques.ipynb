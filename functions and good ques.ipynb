{
 "cells": [
  {
   "cell_type": "markdown",
   "metadata": {},
   "source": [
    "# Function specification\n",
    "    \n",
    "### Docstring :\n",
    "The text between the triple quotation marks is called a docstring in python. It is used to provide specifications of function."
   ]
  },
  {
   "cell_type": "code",
   "execution_count": 8,
   "metadata": {},
   "outputs": [
    {
     "name": "stdout",
     "output_type": "stream",
     "text": [
      " Argument passed into x returns x squared\n",
      "        Answer: \n"
     ]
    },
    {
     "data": {
      "text/plain": [
       "9"
      ]
     },
     "execution_count": 8,
     "metadata": {},
     "output_type": "execute_result"
    }
   ],
   "source": [
    "def squared_number(x):\n",
    "    \"\"\" Argument passed into x returns x squared\n",
    "        Answer: \"\"\"\n",
    "    return x*x\n",
    "\n",
    "print(squared_number.__doc__)\n",
    "squared_number(3)"
   ]
  },
  {
   "cell_type": "markdown",
   "metadata": {},
   "source": [
    "# Types of arguments"
   ]
  },
  {
   "cell_type": "markdown",
   "metadata": {},
   "source": [
    "### 1. Positional Argument:\n"
   ]
  },
  {
   "cell_type": "code",
   "execution_count": 10,
   "metadata": {},
   "outputs": [
    {
     "name": "stdout",
     "output_type": "stream",
     "text": [
      "100\n",
      "-100\n"
     ]
    }
   ],
   "source": [
    "def sub(a,b):\n",
    "    print(a-b)\n",
    "sub(101,1)\n",
    "sub(1,101)"
   ]
  },
  {
   "cell_type": "markdown",
   "metadata": {},
   "source": [
    "### 2. Keyword Argument:"
   ]
  },
  {
   "cell_type": "code",
   "execution_count": 12,
   "metadata": {},
   "outputs": [
    {
     "name": "stdout",
     "output_type": "stream",
     "text": [
      "Hello Jetshree  Good morning!\n",
      "Hello  Arman How are you?\n",
      "Hello Arman  Gm\n",
      "Hello arman Good night\n"
     ]
    }
   ],
   "source": [
    "def wish(name,msg):\n",
    "    print(\"Hello\",name, msg)\n",
    "wish(name=\"Jetshree\",msg=\" Good morning!\")\n",
    "wish(msg=\"How are you?\",name=\" Arman\")\n",
    "wish(\"Arman\",\" Gm\")\n",
    "wish(\"arman\", msg=\"Good night\")"
   ]
  },
  {
   "cell_type": "code",
   "execution_count": 13,
   "metadata": {},
   "outputs": [
    {
     "ename": "SyntaxError",
     "evalue": "positional argument follows keyword argument (<ipython-input-13-1c78d55a0da3>, line 1)",
     "output_type": "error",
     "traceback": [
      "\u001b[1;36m  File \u001b[1;32m\"<ipython-input-13-1c78d55a0da3>\"\u001b[1;36m, line \u001b[1;32m1\u001b[0m\n\u001b[1;33m    wish(name=\"arman\",\"gn\")\u001b[0m\n\u001b[1;37m                      ^\u001b[0m\n\u001b[1;31mSyntaxError\u001b[0m\u001b[1;31m:\u001b[0m positional argument follows keyword argument\n"
     ]
    }
   ],
   "source": [
    "wish(name=\"arman\",\"gn\")"
   ]
  },
  {
   "cell_type": "markdown",
   "metadata": {},
   "source": [
    "### 3. Default Argument:"
   ]
  },
  {
   "cell_type": "code",
   "execution_count": 16,
   "metadata": {},
   "outputs": [
    {
     "name": "stdout",
     "output_type": "stream",
     "text": [
      "Hello Arman Good morning\n",
      "Hello Guest Good morning\n"
     ]
    }
   ],
   "source": [
    "def wish(name=\"Guest\"):\n",
    "    print(\"Hello\",name,\"Good morning\")\n",
    "wish(\"Arman\")\n",
    "wish()"
   ]
  },
  {
   "cell_type": "markdown",
   "metadata": {},
   "source": [
    "### 4. Variable Length Argument:"
   ]
  },
  {
   "cell_type": "code",
   "execution_count": 18,
   "metadata": {},
   "outputs": [
    {
     "name": "stdout",
     "output_type": "stream",
     "text": [
      "The sum= 10\n",
      "The sum= 150.6\n"
     ]
    }
   ],
   "source": [
    "def sum(*n):\n",
    "    total=0\n",
    "    for n1 in n: \n",
    "        total+=n1\n",
    "    print(\"The sum=\",total)\n",
    "sum(10)\n",
    "sum(10,20,30,40,50.6)"
   ]
  },
  {
   "cell_type": "code",
   "execution_count": 19,
   "metadata": {},
   "outputs": [
    {
     "name": "stdout",
     "output_type": "stream",
     "text": [
      "10 *\n",
      "1 *\n",
      "2\n",
      "3\n",
      "5\n",
      "A *\n",
      "10\n",
      "B\n"
     ]
    }
   ],
   "source": [
    "def sum(n1,*s):\n",
    "    print(n1,\"*\")\n",
    "    for s1 in s:\n",
    "        print(s1)\n",
    "sum(10)\n",
    "sum(1,2,3,5)\n",
    "sum(\"A\",10,\"B\")"
   ]
  },
  {
   "cell_type": "code",
   "execution_count": 23,
   "metadata": {},
   "outputs": [
    {
     "name": "stdout",
     "output_type": "stream",
     "text": [
      "80 *\n",
      "1\n",
      "<class 'tuple'>\n",
      "2\n",
      "<class 'tuple'>\n",
      "3\n",
      "<class 'tuple'>\n",
      "B *\n",
      "A\n",
      "<class 'tuple'>\n",
      "10\n",
      "<class 'tuple'>\n"
     ]
    }
   ],
   "source": [
    "def sum(*s,n1):\n",
    "    print(n1,\"*\")\n",
    "    for s1 in s:\n",
    "        print(s1)\n",
    "        print(type(s))\n",
    "# sum(10) --> error\n",
    "sum(1,2,3,n1=80)\n",
    "sum(\"A\",10,n1=\"B\")"
   ]
  },
  {
   "cell_type": "markdown",
   "metadata": {},
   "source": [
    "### kwargs"
   ]
  },
  {
   "cell_type": "code",
   "execution_count": 25,
   "metadata": {},
   "outputs": [
    {
     "name": "stdout",
     "output_type": "stream",
     "text": [
      "{'m1': 100, 'm2': 200}\n",
      "100\n",
      "200\n"
     ]
    }
   ],
   "source": [
    "def display(**kwargs):\n",
    "    print(kwargs) # kwargs --> dictionary\n",
    "    for k in kwargs.values():\n",
    "        print(k)\n",
    "display(m1=100,m2=200)"
   ]
  },
  {
   "cell_type": "code",
   "execution_count": 26,
   "metadata": {},
   "outputs": [
    {
     "name": "stdout",
     "output_type": "stream",
     "text": [
      "{'m1': 100, 'm2': 200}\n",
      "m1\n",
      "m2\n"
     ]
    }
   ],
   "source": [
    "def display(**kwargs):\n",
    "    print(kwargs) # kwargs --> dictionary\n",
    "    for k in kwargs.keys():\n",
    "        print(k)\n",
    "display(m1=100,m2=200)"
   ]
  },
  {
   "cell_type": "code",
   "execution_count": 27,
   "metadata": {},
   "outputs": [
    {
     "name": "stdout",
     "output_type": "stream",
     "text": [
      "{'m1': 100, 'm2': 200}\n",
      "m1 100\n",
      "m2 200\n"
     ]
    }
   ],
   "source": [
    "def display(**kwargs):\n",
    "    print(kwargs) # kwargs --> dictionary\n",
    "    for j,k in kwargs.items():\n",
    "        print(j,k)\n",
    "display(m1=100,m2=200)"
   ]
  },
  {
   "cell_type": "code",
   "execution_count": 32,
   "metadata": {},
   "outputs": [
    {
     "name": "stdout",
     "output_type": "stream",
     "text": [
      "enter your choice: \n",
      "1. Celsius to farenheight\n",
      "2. Farenheight to celsius\n",
      "enter your choice: 2\n",
      "enter temperature in farenheight: 104\n",
      "40.0\n"
     ]
    }
   ],
   "source": [
    "print(\"enter your choice: \")\n",
    "print(\"1. Celsius to farenheight\")\n",
    "print(\"2. Farenheight to celsius\")\n",
    "\n",
    "n=int(input(\"enter your choice: \"))\n",
    "\n",
    "def c2f():\n",
    "    c=float(input(\"enter temperature in celsius: \"))\n",
    "    return (c*(9/5))+32\n",
    "def f2c():\n",
    "    f=float(input(\"enter temperature in farenheight: \"))\n",
    "    return (f-32)*(5/9)\n",
    "\n",
    "if(n==1):\n",
    "    print(c2f())\n",
    "else:\n",
    "    print(f2c())"
   ]
  },
  {
   "cell_type": "code",
   "execution_count": 34,
   "metadata": {},
   "outputs": [
    {
     "name": "stdout",
     "output_type": "stream",
     "text": [
      "Starting value: 1\n",
      "Ending value: 100\n",
      "Enter number to be checked: 56\n"
     ]
    },
    {
     "data": {
      "text/plain": [
       "'yes'"
      ]
     },
     "execution_count": 34,
     "metadata": {},
     "output_type": "execute_result"
    }
   ],
   "source": [
    "# find whether the given number in range or not\n",
    "\n",
    "def find():\n",
    "    s=int(input(\"Starting value: \"))\n",
    "    e=int(input(\"Ending value: \"))\n",
    "    i=int(input(\"Enter number to be checked: \"))\n",
    "    if(i>s and i<e):\n",
    "        return \"yes\"\n",
    "    else:\n",
    "        return \"no\"\n",
    "    \n",
    "find()"
   ]
  },
  {
   "cell_type": "code",
   "execution_count": 41,
   "metadata": {},
   "outputs": [
    {
     "name": "stdout",
     "output_type": "stream",
     "text": [
      "enter a number: 100\n",
      "Not a palindrome\n",
      "\n",
      "Not an armstrong number.\n",
      "\n",
      "Not prime\n",
      "\n",
      "Happy number.\n"
     ]
    }
   ],
   "source": [
    "# check for 3 digit number only:\n",
    "#     1. palindrome \n",
    "#     2. armstrong\n",
    "#     3. prime\n",
    "#     4. happy number\n",
    "\n",
    "t=int(input(\"enter a number: \"))\n",
    "n=t\n",
    "# checking for 3 digits\n",
    "ctr=0\n",
    "while t!=0:\n",
    "    ctr+=1\n",
    "    t=t//10\n",
    "    \n",
    "def palindrome(n):\n",
    "    temp=n\n",
    "    rev=0\n",
    "    while n!=0:\n",
    "        digit=n%10\n",
    "        rev=rev*10 + digit\n",
    "        n=n//10\n",
    "#     print(\"reverse number: \",rev)\n",
    "\n",
    "    if(rev==temp):\n",
    "        print(\"It is a palindrome\")\n",
    "    else:\n",
    "        print(\"Not a palindrome\")\n",
    "        \n",
    "\n",
    "def armstrong(n):\n",
    "    n1=n\n",
    "    temp=n\n",
    "    rev=0\n",
    "    sum=0\n",
    "    ctr=0\n",
    "    while n!=0:\n",
    "        ctr+=1\n",
    "        n=n//10\n",
    "\n",
    "    while n1!=0:\n",
    "        digit=n1%10\n",
    "        sum=sum+(digit**ctr)\n",
    "        n1=n1//10\n",
    "\n",
    "    if sum==temp:\n",
    "        print(\"It is an armstrong number.\")\n",
    "    else:\n",
    "        print(\"Not an armstrong number.\")\n",
    "        \n",
    "    \n",
    "def prime(n):\n",
    "    b1=False\n",
    "    for i in range(2,n):\n",
    "        if(n%i==0):\n",
    "            b1=True\n",
    "\n",
    "    if(b1):\n",
    "        print(\"Not prime\")\n",
    "    else:\n",
    "        print(\"It is prime\")\n",
    "        \n",
    "    \n",
    "def happy(n):\n",
    "    sum=0\n",
    "    while sum!=1 and sum!=4:\n",
    "        sum=0\n",
    "        while n!=0:\n",
    "\n",
    "            digit=n%10\n",
    "            sum=sum+(digit**2)\n",
    "            n=n//10\n",
    "        n=sum\n",
    "\n",
    "    if sum==1:\n",
    "        print(\"Happy number.\")\n",
    "    else:\n",
    "        print(\"Not a happy number.\")\n",
    "        \n",
    "\n",
    "if ctr!=3:\n",
    "    print(\"cannot check further...sorry\")\n",
    "else:\n",
    "    palindrome(n)\n",
    "    print()\n",
    "    armstrong(n)\n",
    "    print()\n",
    "    prime(n)\n",
    "    print()\n",
    "    happy(n)"
   ]
  },
  {
   "cell_type": "code",
   "execution_count": 8,
   "metadata": {},
   "outputs": [
    {
     "name": "stdout",
     "output_type": "stream",
     "text": [
      "enter a number: 2\n",
      "111112\n",
      "111121\n",
      "111211\n",
      "112111\n",
      "121111\n",
      "211111\n"
     ]
    }
   ],
   "source": [
    "# wap that enters a single digit integer number and produces all possible 6 digit numbers for which the product of those digits is equal to entered number\n",
    "n=int(input(\"enter a number: \"))\n",
    "\n",
    "for i in range(100000,1000000):\n",
    "    p=1\n",
    "    for j in str(i):\n",
    "        p=p*int(j)\n",
    "    if p==n:\n",
    "        print(i)"
   ]
  },
  {
   "cell_type": "code",
   "execution_count": 19,
   "metadata": {},
   "outputs": [
    {
     "name": "stdout",
     "output_type": "stream",
     "text": [
      "enter: 1\n",
      "enter: 2\n",
      "enter: 3\n",
      "enter: 4\n",
      "enter: 5\n",
      "enter: stop\n",
      "min:  1\n",
      "max:  5\n",
      "avg:  3.0\n"
     ]
    }
   ],
   "source": [
    "# wap that prompts user to enter the numbers and stops only when the user enters stop after this, print min, max, average of the numbers\n",
    "\n",
    "x=input(\"enter: \")\n",
    "min=int(x)\n",
    "max=int(x)\n",
    "sum=0\n",
    "count=0\n",
    "while x!='stop':\n",
    "    count+=1\n",
    "    if(min>int(x)):\n",
    "        min=int(x)\n",
    "    if(max<int(x)):\n",
    "        max=int(x)\n",
    "    sum+=int(x)\n",
    "    x=input(\"enter: \")\n",
    "print(\"min: \",min)\n",
    "print(\"max: \",max)\n",
    "print(\"avg: \",sum/count)\n",
    "    \n"
   ]
  },
  {
   "cell_type": "code",
   "execution_count": null,
   "metadata": {},
   "outputs": [],
   "source": []
  }
 ],
 "metadata": {
  "kernelspec": {
   "display_name": "Python 3",
   "language": "python",
   "name": "python3"
  },
  "language_info": {
   "codemirror_mode": {
    "name": "ipython",
    "version": 3
   },
   "file_extension": ".py",
   "mimetype": "text/x-python",
   "name": "python",
   "nbconvert_exporter": "python",
   "pygments_lexer": "ipython3",
   "version": "3.8.5"
  }
 },
 "nbformat": 4,
 "nbformat_minor": 4
}
