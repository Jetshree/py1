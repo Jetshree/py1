{
 "cells": [
  {
   "cell_type": "markdown",
   "metadata": {},
   "source": [
    "# Dictionary :\n",
    "\n",
    "    --> representation: (key-value) pair ....eg: rollno-name\n",
    "    --> duplicate keys not allowed, duplicate values are allowed\n",
    "        (if tried to duplicate keys then won't give error but overwrite the new value)\n",
    "    --> heterogeneous objects allowed for both key and value\n",
    "    --> insertion order not preserved\n",
    "    --> mutable\n",
    "##### * index and slicing concepts are not applicable"
   ]
  },
  {
   "cell_type": "code",
   "execution_count": 2,
   "metadata": {},
   "outputs": [
    {
     "name": "stdout",
     "output_type": "stream",
     "text": [
      "{10: 'lucky', 20: 'aaryan', 30: 'arman'}\n"
     ]
    }
   ],
   "source": [
    "d={10:\"lucky\",20:\"aaryan\",30:\"arman\"}\n",
    "print(d)"
   ]
  },
  {
   "cell_type": "code",
   "execution_count": 3,
   "metadata": {},
   "outputs": [
    {
     "name": "stdout",
     "output_type": "stream",
     "text": [
      "{10: 'arman', 20: 'aaryan'}\n"
     ]
    }
   ],
   "source": [
    "d={10:\"lucky\",20:\"aryan\",10:\"arman\"}\n",
    "print(d)"
   ]
  },
  {
   "cell_type": "code",
   "execution_count": 4,
   "metadata": {},
   "outputs": [
    {
     "name": "stdout",
     "output_type": "stream",
     "text": [
      "<class 'dict'>\n",
      "<class 'set'>\n"
     ]
    }
   ],
   "source": [
    "d={} # by default {} is dictionary\n",
    "print(type(d))\n",
    "\n",
    "s=set()\n",
    "print(type(s))"
   ]
  },
  {
   "cell_type": "code",
   "execution_count": 5,
   "metadata": {},
   "outputs": [
    {
     "name": "stdout",
     "output_type": "stream",
     "text": [
      "{10: 'lucky', 20: 'aaryan', 30: 'arman'}\n",
      "{10: 'Jetshree', 20: 'aaryan', 30: 'arman', 40: 'Dhruvi', 50: 'Urvi'}\n"
     ]
    }
   ],
   "source": [
    "d={10:\"Lucky\",20:\"Aryan\",30:\"Arman\"}\n",
    "print(d)\n",
    "d[40]=\"Dhruvi\"\n",
    "d[50]=\"Urvi\"\n",
    "d[10]=\"Jetshree\"\n",
    "\n",
    "print(d)"
   ]
  },
  {
   "cell_type": "markdown",
   "metadata": {},
   "source": [
    "### dictionary as list of tuples (using dict() function)"
   ]
  },
  {
   "cell_type": "code",
   "execution_count": 6,
   "metadata": {},
   "outputs": [
    {
     "name": "stdout",
     "output_type": "stream",
     "text": [
      "{10: 'Arman', 20: 'Aryan', 'Hi': 30}\n"
     ]
    }
   ],
   "source": [
    "d=dict([(10,\"Arman\"),(20,\"Aryan\"),(\"Hi\",30)])\n",
    "print(d)"
   ]
  },
  {
   "cell_type": "code",
   "execution_count": 7,
   "metadata": {},
   "outputs": [
    {
     "name": "stdout",
     "output_type": "stream",
     "text": [
      "Arman\n"
     ]
    },
    {
     "ename": "KeyError",
     "evalue": "30",
     "output_type": "error",
     "traceback": [
      "\u001b[1;31m---------------------------------------------------------------------------\u001b[0m",
      "\u001b[1;31mKeyError\u001b[0m                                  Traceback (most recent call last)",
      "\u001b[1;32m<ipython-input-7-d0442c42718e>\u001b[0m in \u001b[0;36m<module>\u001b[1;34m\u001b[0m\n\u001b[0;32m      1\u001b[0m \u001b[0md\u001b[0m\u001b[1;33m=\u001b[0m\u001b[0mdict\u001b[0m\u001b[1;33m(\u001b[0m\u001b[1;33m[\u001b[0m\u001b[1;33m(\u001b[0m\u001b[1;36m10\u001b[0m\u001b[1;33m,\u001b[0m\u001b[1;34m\"Arman\"\u001b[0m\u001b[1;33m)\u001b[0m\u001b[1;33m,\u001b[0m\u001b[1;33m(\u001b[0m\u001b[1;36m20\u001b[0m\u001b[1;33m,\u001b[0m\u001b[1;34m\"Aryan\"\u001b[0m\u001b[1;33m)\u001b[0m\u001b[1;33m,\u001b[0m\u001b[1;33m(\u001b[0m\u001b[1;34m\"Hi\"\u001b[0m\u001b[1;33m,\u001b[0m\u001b[1;36m30\u001b[0m\u001b[1;33m)\u001b[0m\u001b[1;33m]\u001b[0m\u001b[1;33m)\u001b[0m\u001b[1;33m\u001b[0m\u001b[1;33m\u001b[0m\u001b[0m\n\u001b[0;32m      2\u001b[0m \u001b[0mprint\u001b[0m\u001b[1;33m(\u001b[0m\u001b[0md\u001b[0m\u001b[1;33m[\u001b[0m\u001b[1;36m10\u001b[0m\u001b[1;33m]\u001b[0m\u001b[1;33m)\u001b[0m\u001b[1;33m\u001b[0m\u001b[1;33m\u001b[0m\u001b[0m\n\u001b[1;32m----> 3\u001b[1;33m \u001b[0mprint\u001b[0m\u001b[1;33m(\u001b[0m\u001b[0md\u001b[0m\u001b[1;33m[\u001b[0m\u001b[1;36m30\u001b[0m\u001b[1;33m]\u001b[0m\u001b[1;33m)\u001b[0m\u001b[1;33m\u001b[0m\u001b[1;33m\u001b[0m\u001b[0m\n\u001b[0m",
      "\u001b[1;31mKeyError\u001b[0m: 30"
     ]
    }
   ],
   "source": [
    "d=dict([(10,\"Arman\"),(20,\"Aryan\"),(\"Hi\",30)])\n",
    "print(d[10])\n",
    "print(d[30])"
   ]
  },
  {
   "cell_type": "code",
   "execution_count": 8,
   "metadata": {},
   "outputs": [
    {
     "name": "stdout",
     "output_type": "stream",
     "text": [
      "Arman\n",
      "{10: 'Arman', 20: 'Aryan', 'Hi': 30, 30: 'Sumit'}\n",
      "{10: 'Jetshree', 20: 'Aryan', 'Hi': 30, 30: 'Sumit'}\n"
     ]
    }
   ],
   "source": [
    "d=dict([(10,\"Arman\"),(20,\"Aryan\"),(\"Hi\",30)])\n",
    "print(d[10])\n",
    "\n",
    "d[30]=\"Sumit\"\n",
    "print(d)\n",
    "\n",
    "d[10]=\"Jetshree\"\n",
    "print(d)"
   ]
  },
  {
   "cell_type": "markdown",
   "metadata": {},
   "source": [
    "### del : \n",
    "    1. to delete particular value\n",
    "    2. to delete entire dictionary...after this we won't even get empty dictionary, instead that variable will be deleted permanently\n",
    "    \n",
    "### clear() --> deletes all the elements"
   ]
  },
  {
   "cell_type": "code",
   "execution_count": 10,
   "metadata": {},
   "outputs": [
    {
     "name": "stdout",
     "output_type": "stream",
     "text": [
      "{10: 'Jetshree', 20: 'Aryan', 'Hi': 30}\n",
      "{}\n"
     ]
    }
   ],
   "source": [
    "del d[30]\n",
    "print(d)\n",
    "\n",
    "d.clear()\n",
    "print(d)"
   ]
  },
  {
   "cell_type": "code",
   "execution_count": 12,
   "metadata": {},
   "outputs": [
    {
     "ename": "NameError",
     "evalue": "name 'd' is not defined",
     "output_type": "error",
     "traceback": [
      "\u001b[1;31m---------------------------------------------------------------------------\u001b[0m",
      "\u001b[1;31mNameError\u001b[0m                                 Traceback (most recent call last)",
      "\u001b[1;32m<ipython-input-12-0bb7ef43b0e4>\u001b[0m in \u001b[0;36m<module>\u001b[1;34m\u001b[0m\n\u001b[1;32m----> 1\u001b[1;33m \u001b[1;32mdel\u001b[0m \u001b[0md\u001b[0m\u001b[1;33m\u001b[0m\u001b[1;33m\u001b[0m\u001b[0m\n\u001b[0m\u001b[0;32m      2\u001b[0m \u001b[0mprint\u001b[0m\u001b[1;33m(\u001b[0m\u001b[0md\u001b[0m\u001b[1;33m)\u001b[0m \u001b[1;31m# error: coz d doesn't exist\u001b[0m\u001b[1;33m\u001b[0m\u001b[1;33m\u001b[0m\u001b[0m\n",
      "\u001b[1;31mNameError\u001b[0m: name 'd' is not defined"
     ]
    }
   ],
   "source": [
    "del d\n",
    "print(d) # error: coz d doesn't exist"
   ]
  },
  {
   "cell_type": "markdown",
   "metadata": {},
   "source": [
    "## Ditionary comprehension :\n"
   ]
  },
  {
   "cell_type": "code",
   "execution_count": 13,
   "metadata": {},
   "outputs": [
    {
     "name": "stdout",
     "output_type": "stream",
     "text": [
      "{1: 1, 2: 4, 3: 9, 4: 16, 5: 25}\n"
     ]
    }
   ],
   "source": [
    "square={x:x*x for x in range(1,6)}\n",
    "print(square)"
   ]
  },
  {
   "cell_type": "markdown",
   "metadata": {},
   "source": [
    "## important functions of dictionary:\n",
    "    1. dict()\n",
    "    2. len()\n",
    "    3. clear()\n",
    "    4. copy()\n",
    "    5. update()\n",
    "    6. get()\n",
    "    7. popitem()\n",
    "    8. keys()\n",
    "    9. values()\n",
    "    10. items()\n",
    "    11. setdefault()"
   ]
  },
  {
   "cell_type": "markdown",
   "metadata": {},
   "source": [
    "### copy()"
   ]
  },
  {
   "cell_type": "code",
   "execution_count": 17,
   "metadata": {},
   "outputs": [
    {
     "name": "stdout",
     "output_type": "stream",
     "text": [
      "{100: 1, 200: 4, 300: 9, 400: 16, 500: 25, 1: 50, 2: 4, 3: 9, 4: 16, 5: 25}\n"
     ]
    }
   ],
   "source": [
    "d={1: 1, 2: 4, 3: 9, 4: 16, 5: 25}\n",
    "x=d.copy()\n",
    "x[1]=50\n",
    "print(d)"
   ]
  },
  {
   "cell_type": "markdown",
   "metadata": {},
   "source": [
    "### update()"
   ]
  },
  {
   "cell_type": "code",
   "execution_count": 19,
   "metadata": {},
   "outputs": [
    {
     "name": "stdout",
     "output_type": "stream",
     "text": [
      "{100: 1, 200: 4, 300: 9, 400: 16, 500: 25, 1: 50, 2: 4, 3: 9, 4: 16, 5: 25}\n"
     ]
    }
   ],
   "source": [
    "d={100: 1, 200: 4, 300: 9, 400: 16, 500: 25}\n",
    "d.update(x)\n",
    "print(d)"
   ]
  },
  {
   "cell_type": "markdown",
   "metadata": {},
   "source": [
    "### get()"
   ]
  },
  {
   "cell_type": "code",
   "execution_count": 21,
   "metadata": {},
   "outputs": [
    {
     "name": "stdout",
     "output_type": "stream",
     "text": [
      "Lucky\n",
      "Lucky\n",
      "None\n",
      "Lucky\n",
      "Guest\n"
     ]
    }
   ],
   "source": [
    "d={10:\"Lucky\",20:\"Aryan\",30:\"Arman\"}\n",
    "\n",
    "print(d[10])\n",
    "print(d.get(10))\n",
    "print(d.get(40))\n",
    "print(d.get(10,\"Guest\"))\n",
    "print(d.get(40,\"Guest\"))"
   ]
  },
  {
   "cell_type": "markdown",
   "metadata": {},
   "source": [
    "### popitem() --> returns tuple"
   ]
  },
  {
   "cell_type": "code",
   "execution_count": 22,
   "metadata": {},
   "outputs": [
    {
     "name": "stdout",
     "output_type": "stream",
     "text": [
      "(30, 'Arman')\n",
      "{10: 'Lucky', 20: 'Aryan'}\n"
     ]
    },
    {
     "ename": "KeyError",
     "evalue": "'popitem(): dictionary is empty'",
     "output_type": "error",
     "traceback": [
      "\u001b[1;31m---------------------------------------------------------------------------\u001b[0m",
      "\u001b[1;31mKeyError\u001b[0m                                  Traceback (most recent call last)",
      "\u001b[1;32m<ipython-input-22-97728f2e31ea>\u001b[0m in \u001b[0;36m<module>\u001b[1;34m\u001b[0m\n\u001b[0;32m      3\u001b[0m \u001b[1;33m\u001b[0m\u001b[0m\n\u001b[0;32m      4\u001b[0m \u001b[0md\u001b[0m\u001b[1;33m=\u001b[0m\u001b[1;33m{\u001b[0m\u001b[1;33m}\u001b[0m\u001b[1;33m\u001b[0m\u001b[1;33m\u001b[0m\u001b[0m\n\u001b[1;32m----> 5\u001b[1;33m \u001b[0mprint\u001b[0m\u001b[1;33m(\u001b[0m\u001b[0md\u001b[0m\u001b[1;33m.\u001b[0m\u001b[0mpopitem\u001b[0m\u001b[1;33m(\u001b[0m\u001b[1;33m)\u001b[0m\u001b[1;33m)\u001b[0m\u001b[1;33m\u001b[0m\u001b[1;33m\u001b[0m\u001b[0m\n\u001b[0m",
      "\u001b[1;31mKeyError\u001b[0m: 'popitem(): dictionary is empty'"
     ]
    }
   ],
   "source": [
    "print(d.popitem())\n",
    "print(d)\n",
    "\n",
    "d={}\n",
    "print(d.popitem())"
   ]
  },
  {
   "cell_type": "markdown",
   "metadata": {},
   "source": [
    "### keys(), values(), items()"
   ]
  },
  {
   "cell_type": "code",
   "execution_count": 23,
   "metadata": {},
   "outputs": [
    {
     "name": "stdout",
     "output_type": "stream",
     "text": [
      "dict_keys([10, 20, 30])\n",
      "dict_values(['Lucky', 'Aryan', 'Arman'])\n",
      "dict_items([(10, 'Lucky'), (20, 'Aryan'), (30, 'Arman')])\n"
     ]
    }
   ],
   "source": [
    "d={10:\"Lucky\",20:\"Aryan\",30:\"Arman\"}\n",
    "\n",
    "print(d.keys())\n",
    "print(d.values())\n",
    "print(d.items())"
   ]
  },
  {
   "cell_type": "code",
   "execution_count": 24,
   "metadata": {},
   "outputs": [
    {
     "name": "stdout",
     "output_type": "stream",
     "text": [
      "10\n",
      "20\n",
      "30\n",
      "Lucky\n",
      "Aryan\n",
      "Arman\n",
      "10 -> Lucky\n",
      "20 -> Aryan\n",
      "30 -> Arman\n"
     ]
    }
   ],
   "source": [
    "for i in d.keys():\n",
    "    print(i)\n",
    "    \n",
    "for i in d.values():\n",
    "    print(i)\n",
    "    \n",
    "for i,j in d.items():\n",
    "    print(i,\"->\",j)\n"
   ]
  },
  {
   "cell_type": "markdown",
   "metadata": {},
   "source": [
    "### setdefault() "
   ]
  },
  {
   "cell_type": "code",
   "execution_count": 26,
   "metadata": {},
   "outputs": [
    {
     "name": "stdout",
     "output_type": "stream",
     "text": [
      "Pavan\n",
      "{10: 'Lucky', 20: 'Aryan', 30: 'Arman', 40: 'Pavan'}\n",
      "Lucky\n",
      "{10: 'Lucky', 20: 'Aryan', 30: 'Arman', 40: 'Pavan'}\n"
     ]
    }
   ],
   "source": [
    "print(d.setdefault(40,\"Pavan\")) #--> will add this key and its value if absent in dict\n",
    "print(d)\n",
    "print(d.setdefault(10,\"Sachin\")) #---> returns original value of the key\n",
    "print(d)"
   ]
  },
  {
   "cell_type": "code",
   "execution_count": 34,
   "metadata": {},
   "outputs": [
    {
     "name": "stdout",
     "output_type": "stream",
     "text": [
      "{'hello': 2, 'how': 1, 'are': 1, 'you?': 1}\n"
     ]
    }
   ],
   "source": [
    "# wap that reads the word from paragraph and stores them as keys in dictionary and \n",
    "# count the frequency of it as a value.\n",
    "\n",
    "p=\"hello how are you? hello\"\n",
    "p=p.split()\n",
    "d={}\n",
    "for i in p:\n",
    "    d.setdefault(i,p.count(i))\n",
    "print(d)"
   ]
  },
  {
   "cell_type": "code",
   "execution_count": null,
   "metadata": {},
   "outputs": [],
   "source": []
  }
 ],
 "metadata": {
  "kernelspec": {
   "display_name": "Python 3",
   "language": "python",
   "name": "python3"
  },
  "language_info": {
   "codemirror_mode": {
    "name": "ipython",
    "version": 3
   },
   "file_extension": ".py",
   "mimetype": "text/x-python",
   "name": "python",
   "nbconvert_exporter": "python",
   "pygments_lexer": "ipython3",
   "version": "3.8.5"
  }
 },
 "nbformat": 4,
 "nbformat_minor": 4
}
